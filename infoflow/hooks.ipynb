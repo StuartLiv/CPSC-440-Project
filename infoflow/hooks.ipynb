{
  "nbformat": 4,
  "nbformat_minor": 0,
  "metadata": {
    "colab": {
      "provenance": [],
      "gpuType": "L4",
      "machine_shape": "hm",
      "include_colab_link": true
    },
    "kernelspec": {
      "name": "python3",
      "display_name": "Python 3"
    },
    "language_info": {
      "name": "python"
    },
    "accelerator": "GPU"
  },
  "cells": [
    {
      "cell_type": "markdown",
      "metadata": {
        "id": "view-in-github",
        "colab_type": "text"
      },
      "source": [
        "<a href=\"https://colab.research.google.com/github/StuartLiv/CPSC-440-Project/blob/main/models/hooks.ipynb\" target=\"_parent\"><img src=\"https://colab.research.google.com/assets/colab-badge.svg\" alt=\"Open In Colab\"/></a>"
      ]
    },
    {
      "cell_type": "code",
      "source": [
        "import torchvision.transforms.functional as F"
      ],
      "metadata": {
        "id": "IRGbGgqMyPTE"
      },
      "execution_count": 1,
      "outputs": []
    },
    {
      "cell_type": "code",
      "source": [
        "import os\n",
        "from tqdm import tqdm\n",
        "import re\n",
        "from keras.preprocessing.image import img_to_array # TODO don't use keras\n",
        "from keras.utils import load_img\n",
        "import matplotlib.pyplot as plt\n",
        "import numpy as np\n",
        "\n",
        "import torch\n",
        "import torch.nn as nn\n",
        "import torch.optim as optim\n",
        "import random\n",
        "\n",
        "from google.colab import userdata\n",
        "\n",
        "device = torch.device(\"cuda\") if torch.cuda.is_available() else torch.device(\"cpu\")\n",
        "print(\"Device\", device)"
      ],
      "metadata": {
        "id": "N-_96eljZSnh",
        "colab": {
          "base_uri": "https://localhost:8080/"
        },
        "outputId": "4b8b464c-23aa-4707-d5c7-5f7be8cd4ec6"
      },
      "execution_count": 2,
      "outputs": [
        {
          "output_type": "stream",
          "name": "stdout",
          "text": [
            "Device cuda\n"
          ]
        }
      ]
    },
    {
      "cell_type": "markdown",
      "source": [
        "# 1. Set up project in runtime\n",
        "Copy the following cell and run it with your credentials to clone the repo, getting datasets as runtime files, and then delete your credentials."
      ],
      "metadata": {
        "id": "p2hPm3ge3aAx"
      }
    },
    {
      "cell_type": "code",
      "source": [
        "!git config --global user.email {userdata.get('email')}\n",
        "!git config --global user.name {userdata.get('name')}\n",
        "!git clone https://{userdata.get('token')}@github.com/StuartLiv/CPSC-440-Project\n",
        "%pwd"
      ],
      "metadata": {
        "id": "tnRzeKSA1q4F",
        "outputId": "c55a0c92-05f8-4942-9afd-5e94b872bae8",
        "colab": {
          "base_uri": "https://localhost:8080/",
          "height": 53
        }
      },
      "execution_count": 3,
      "outputs": [
        {
          "output_type": "stream",
          "name": "stdout",
          "text": [
            "fatal: destination path 'CPSC-440-Project' already exists and is not an empty directory.\n"
          ]
        },
        {
          "output_type": "execute_result",
          "data": {
            "text/plain": [
              "'/content'"
            ],
            "application/vnd.google.colaboratory.intrinsic+json": {
              "type": "string"
            }
          },
          "metadata": {},
          "execution_count": 3
        }
      ]
    },
    {
      "cell_type": "markdown",
      "source": [
        "# 2. Preprocess data\n",
        "\n",
        "Datasets:\n",
        "- `medset_multisize`\n",
        "  - Single datasets. Dataset construction code in repo too\n",
        "  - 12000 Images, in randomized order\n",
        "  - Res 256x256 (grayscale images also available in 128x128, 64x64, 32x32)\n"
      ],
      "metadata": {
        "id": "y1rkmEoxY0bM"
      }
    },
    {
      "cell_type": "code",
      "source": [
        "def make_image_arr(path,cut=None,end=False):\n",
        "\n",
        "  def sorted_alphanumeric(data):\n",
        "    convert = lambda text: int(text) if text.isdigit() else text.lower()\n",
        "    alphanum_key = lambda key: [convert(c) for c in re.split('([0-9]+)',key)]\n",
        "    return sorted(data,key = alphanum_key)\n",
        "\n",
        "  files = os.listdir(path)\n",
        "  files = sorted_alphanumeric(files)\n",
        "\n",
        "  if end:\n",
        "    files.reverse()\n",
        "  if cut is not None:\n",
        "    files = files[:cut]\n",
        "\n",
        "  arr = []\n",
        "  for i in tqdm(files):\n",
        "    img = load_img(path + '/'+i)\n",
        "    arr.append(img_to_array(img) / 255)\n",
        "\n",
        "  return np.array(arr)"
      ],
      "metadata": {
        "id": "nmb6y7FQUO24"
      },
      "execution_count": 4,
      "outputs": []
    },
    {
      "cell_type": "code",
      "source": [
        "graynp = make_image_arr('/content/CPSC-440-Project/datasets/medset_multisize/gray64',cut=100,end=True)\n",
        "\n",
        "# take one axis\n",
        "graynp = np.moveaxis(graynp, [3,1], [1,2])\n",
        "\n",
        "# convert to LAB scale\n",
        "graynp = graynp[:, 0:1, :, :] * 100\n",
        "\n",
        "# tensor to GPU\n",
        "gray = torch.from_numpy(graynp).to(device)"
      ],
      "metadata": {
        "id": "6fC3CDnMANLX",
        "outputId": "688ad315-9e87-45ad-8fc6-08cbacbbf5af",
        "colab": {
          "base_uri": "https://localhost:8080/"
        }
      },
      "execution_count": 5,
      "outputs": [
        {
          "output_type": "stream",
          "name": "stderr",
          "text": [
            "100%|██████████| 100/100 [00:00<00:00, 3533.53it/s]\n"
          ]
        }
      ]
    },
    {
      "cell_type": "markdown",
      "source": [
        "# 3. Model\n",
        "Model generated below:"
      ],
      "metadata": {
        "id": "WnA0Wvam63vM"
      }
    },
    {
      "cell_type": "code",
      "execution_count": 6,
      "metadata": {
        "id": "kL2B0zg4cEoR"
      },
      "outputs": [],
      "source": [
        "class Autoencoder(nn.Module):\n",
        "    def __init__(self):\n",
        "        super(Autoencoder, self).__init__()\n",
        "        self.encoder = nn.Sequential()\n",
        "        self.decoder = nn.Sequential()\n",
        "    def forward(self, x):\n",
        "        encoded = self.encoder(x)\n",
        "        decoded = self.decoder(encoded)\n",
        "        return decoded\n",
        "\n",
        "# Create the autoencoder\n",
        "autoencoder = Autoencoder()"
      ]
    },
    {
      "cell_type": "markdown",
      "source": [
        "Train Model (SGD)"
      ],
      "metadata": {
        "id": "7bE0wD5tOKG2"
      }
    },
    {
      "cell_type": "code",
      "source": [
        "autoencoder.encoder = torch.load('/content/CPSC-440-Project/models/old models/lab_mle_encoder_64')\n",
        "autoencoder.decoder = torch.load('/content/CPSC-440-Project/models/old models/lab_mle_decoder')\n",
        "autoencoder.eval()\n"
      ],
      "metadata": {
        "id": "NlEig1rTOP2F",
        "outputId": "4b417ece-13d4-444c-f4ba-6bec37b0b484",
        "colab": {
          "base_uri": "https://localhost:8080/"
        }
      },
      "execution_count": 7,
      "outputs": [
        {
          "output_type": "execute_result",
          "data": {
            "text/plain": [
              "Autoencoder(\n",
              "  (encoder): Sequential(\n",
              "    (0): Conv2d(1, 64, kernel_size=(3, 3), stride=(1, 1), padding=(1, 1))\n",
              "    (1): BatchNorm2d(64, eps=1e-05, momentum=0.1, affine=True, track_running_stats=True)\n",
              "    (2): ReLU()\n",
              "    (3): Conv2d(64, 256, kernel_size=(3, 3), stride=(1, 1), padding=(1, 1))\n",
              "    (4): BatchNorm2d(256, eps=1e-05, momentum=0.1, affine=True, track_running_stats=True)\n",
              "    (5): ReLU()\n",
              "    (6): MaxPool2d(kernel_size=2, stride=2, padding=0, dilation=1, ceil_mode=False)\n",
              "  )\n",
              "  (decoder): Sequential(\n",
              "    (0): ConvTranspose2d(256, 128, kernel_size=(3, 3), stride=(2, 2), padding=(1, 1), output_padding=(1, 1))\n",
              "    (1): BatchNorm2d(128, eps=1e-05, momentum=0.1, affine=True, track_running_stats=True)\n",
              "    (2): ReLU()\n",
              "    (3): Conv2d(128, 64, kernel_size=(3, 3), stride=(1, 1), padding=(1, 1))\n",
              "    (4): BatchNorm2d(64, eps=1e-05, momentum=0.1, affine=True, track_running_stats=True)\n",
              "    (5): ReLU()\n",
              "    (6): ConvTranspose2d(64, 32, kernel_size=(3, 3), stride=(2, 2), padding=(1, 1), output_padding=(1, 1))\n",
              "    (7): BatchNorm2d(32, eps=1e-05, momentum=0.1, affine=True, track_running_stats=True)\n",
              "    (8): ReLU()\n",
              "    (9): Conv2d(32, 16, kernel_size=(3, 3), stride=(1, 1), padding=(1, 1))\n",
              "    (10): BatchNorm2d(16, eps=1e-05, momentum=0.1, affine=True, track_running_stats=True)\n",
              "    (11): ReLU()\n",
              "    (12): ConvTranspose2d(16, 8, kernel_size=(3, 3), stride=(2, 2), padding=(1, 1), output_padding=(1, 1))\n",
              "    (13): BatchNorm2d(8, eps=1e-05, momentum=0.1, affine=True, track_running_stats=True)\n",
              "    (14): ReLU()\n",
              "    (15): Conv2d(8, 3, kernel_size=(3, 3), stride=(1, 1), padding=(1, 1))\n",
              "  )\n",
              ")"
            ]
          },
          "metadata": {},
          "execution_count": 7
        }
      ]
    },
    {
      "cell_type": "markdown",
      "source": [
        "## Hook\n",
        "Add hooks to self.encoder or self.decoder, with the indices listed by `.eval` above!"
      ],
      "metadata": {
        "id": "DR6WIpr42v2U"
      }
    },
    {
      "cell_type": "code",
      "source": [
        "\n",
        "# a dict to store the activations\n",
        "activation = {}\n",
        "def getActivation(name):\n",
        "  # the hook signature\n",
        "  def hook(model, input, output):\n",
        "    activation[name] = output.detach().cpu().numpy()\n",
        "  return hook\n",
        "\n",
        "# register forward hooks on the layers with the following dims:\n",
        "dims = [32,64,128,256]\n",
        "autoencoder.encoder[-1].register_forward_hook(getActivation('en'))\n",
        "autoencoder.decoder[0].register_forward_hook(getActivation('de64'))\n",
        "autoencoder.decoder[6].register_forward_hook(getActivation('de128'))\n",
        "autoencoder.decoder[12].register_forward_hook(getActivation('de256'))\n",
        "\n",
        "# h3 = autoencoder.decoder.register_forward_hook(getActivation('sigmoid')) # this is excatly the output!\n"
      ],
      "metadata": {
        "id": "Key7WnQau7CU",
        "outputId": "46756933-bb5f-4a32-e358-e4c16a1585b5",
        "colab": {
          "base_uri": "https://localhost:8080/"
        }
      },
      "execution_count": 8,
      "outputs": [
        {
          "output_type": "execute_result",
          "data": {
            "text/plain": [
              "<torch.utils.hooks.RemovableHandle at 0x7d142503d600>"
            ]
          },
          "metadata": {},
          "execution_count": 8
        }
      ]
    },
    {
      "cell_type": "code",
      "source": [
        "def get_rank(S,cut):\n",
        "  sum = np.sum(S)\n",
        "  i = 0\n",
        "  while np.sum(S[:i]) < cut * np.sum(S[i:]):\n",
        "    i += 1\n",
        "  return i"
      ],
      "metadata": {
        "id": "lNQXikNVM4xW"
      },
      "execution_count": 9,
      "outputs": []
    },
    {
      "cell_type": "code",
      "source": [
        "n = 100\n",
        "ranks = np.zeros((3,n))\n",
        "count = 0\n",
        "for i in tqdm(np.random.randint(0, len(gray), n)):\n",
        "  # Colorize the image\n",
        "  t = gray[i].unsqueeze(0).to(device)\n",
        "  autoencoder(t)\n",
        "\n",
        "  for j in range(3):\n",
        "    key = list(activation.keys())[j]\n",
        "    dim = dims[j]\n",
        "    # print(activation[key][0].shape)\n",
        "    U,S,V = np.linalg.svd(activation[key][0].reshape(-1,dim**2))\n",
        "    # print(S.shape)\n",
        "    ranks[j,count] = get_rank(S,3)\n",
        "\n",
        "  count += 1"
      ],
      "metadata": {
        "id": "sHvbUZu1MWfW",
        "outputId": "48cd6d1f-ecaa-45d6-c67a-36d9615f6ee3",
        "colab": {
          "base_uri": "https://localhost:8080/"
        }
      },
      "execution_count": 10,
      "outputs": [
        {
          "output_type": "stream",
          "name": "stderr",
          "text": [
            "100%|██████████| 100/100 [15:53<00:00,  9.53s/it]\n"
          ]
        }
      ]
    },
    {
      "cell_type": "code",
      "source": [
        "ranks"
      ],
      "metadata": {
        "id": "ga5JtS8b5h-M",
        "outputId": "87195698-8355-44c5-d9de-439698d4a9da",
        "colab": {
          "base_uri": "https://localhost:8080/"
        }
      },
      "execution_count": 16,
      "outputs": [
        {
          "output_type": "execute_result",
          "data": {
            "text/plain": [
              "array([[87., 83., 83., 92., 76., 11., 71., 83., 83., 85., 91., 76., 94.,\n",
              "        59., 63., 88., 88., 63., 80., 90., 79., 57., 37., 75., 12., 75.,\n",
              "        87., 76., 68., 76., 78., 89., 63., 73., 83., 67., 68., 13., 68.,\n",
              "        73., 77., 95., 93., 89., 57., 92., 73.,  8., 92., 91., 50., 73.,\n",
              "        77., 87., 77., 77., 77., 58., 51., 69., 83., 76., 77., 92., 87.,\n",
              "        37., 91., 37., 87., 85., 89., 82., 68., 92., 86., 53., 78., 24.,\n",
              "        57., 82., 13., 88., 82., 82., 89., 86., 34., 76., 67., 87., 89.,\n",
              "        67., 80., 12., 77., 77., 34., 58., 86., 82.],\n",
              "       [20., 19., 16., 17., 12.,  4., 13., 17., 19., 17., 18., 12., 17.,\n",
              "         7., 14., 18., 18., 14., 15., 17., 16., 14.,  7., 14.,  4., 16.,\n",
              "        17., 17., 14., 13., 16., 18., 14., 11., 17., 12.,  7.,  5.,  7.,\n",
              "        11., 12., 19., 15., 18., 13., 17., 12.,  4., 15., 18.,  6., 11.,\n",
              "        13., 18., 12., 12., 16., 13.,  8.,  9., 15., 12., 16., 17., 17.,\n",
              "         7., 18.,  7., 14., 18., 18., 15.,  7., 15., 18.,  8., 15., 10.,\n",
              "        12., 18.,  5., 18., 16., 16., 18., 18.,  4., 12., 12., 18., 18.,\n",
              "        12., 15.,  4., 16., 12.,  7., 13., 18., 18.],\n",
              "       [13., 13., 12., 12., 11., 10., 11., 12., 13., 13., 13., 11., 12.,\n",
              "         9., 12., 13., 12., 12., 12., 12., 12., 12., 10., 12., 10., 13.,\n",
              "        12., 13., 12., 11., 12., 13., 12., 11., 12., 11., 10., 11., 10.,\n",
              "        11., 11., 13., 12., 13., 12., 12., 11., 11., 12., 13., 10., 11.,\n",
              "        11., 12., 11., 11., 12., 12., 11., 10., 12., 11., 12., 12., 12.,\n",
              "        10., 13., 10., 11., 12., 13., 12., 10., 12., 13., 11., 12., 11.,\n",
              "        12., 12., 11., 13., 12., 12., 13., 12., 10., 11., 11., 12., 12.,\n",
              "        11., 12., 10., 12., 11., 11., 12., 12., 12.]])"
            ]
          },
          "metadata": {},
          "execution_count": 16
        }
      ]
    },
    {
      "cell_type": "code",
      "source": [
        "np.save('lab64_ranks',ranks)"
      ],
      "metadata": {
        "id": "cWqJTipuHOju"
      },
      "execution_count": 17,
      "outputs": []
    },
    {
      "cell_type": "code",
      "source": [
        "np.load('')"
      ],
      "metadata": {
        "id": "R6aT8DDyUTjX"
      },
      "execution_count": null,
      "outputs": []
    },
    {
      "cell_type": "code",
      "source": [
        "for i in range(3):\n",
        "  print(f'{np.mean(ranks[i])} ± {np.sqrt(np.var(ranks,axis=1))[i]:.2f}')"
      ],
      "metadata": {
        "id": "n83yiPGaIngo",
        "outputId": "d6d82085-7365-40bc-84e1-0a9915b62d99",
        "colab": {
          "base_uri": "https://localhost:8080/"
        }
      },
      "execution_count": 18,
      "outputs": [
        {
          "output_type": "stream",
          "name": "stdout",
          "text": [
            "71.55 ± 21.19\n",
            "13.62 ± 4.31\n",
            "11.64 ± 0.93\n"
          ]
        }
      ]
    },
    {
      "cell_type": "markdown",
      "source": [
        "# 4. Push changes\n",
        "\n",
        "Look for any changes in the project directory, excluding this notebook, and push them.\n"
      ],
      "metadata": {
        "id": "UuwWuVpI7JOM"
      }
    },
    {
      "cell_type": "markdown",
      "source": [
        "# 4. Save notebook\n",
        "\n",
        "Commiting this notebook requires a special maneuver:\n",
        "\n",
        "> File > Save a copy in github > enter original `path` + new commit msg\n",
        "\n",
        "That's it!"
      ],
      "metadata": {
        "id": "l6r4vK-a9Tr4"
      }
    }
  ]
}