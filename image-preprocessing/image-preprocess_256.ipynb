{
 "cells": [
  {
   "cell_type": "markdown",
   "metadata": {},
   "source": [
    "# Image Dataset Pre-Processing\n",
    "\n",
    "The following code takes our various color images from different online dataset sources (one folder with nested folders of different images inside), combines them, renames them uniformly, and resizes them all to 256x256 resolution. I'm using offline directories (on my local machine) outside of this repo because Github causes issues if I make more than 10000 changes at once.\n",
    "\n",
    "Further rescaling for compressed size datasets at the end."
   ]
  },
  {
   "cell_type": "code",
   "execution_count": 1,
   "metadata": {},
   "outputs": [],
   "source": [
    "import glob\n",
    "import shutil\n",
    "import os\n",
    "from PIL import Image\n",
    "import random\n",
    "\n",
    "# Source directory with subfolders\n",
    "raw_images_source = \"C:/Users/ziven/OneDrive/School/UBC/Fourth Year/CPSC 440/Final Project/Offline/original_med\"\n",
    "\n",
    "color_raw_dir = \"C:/Users/ziven/OneDrive/School/UBC/Fourth Year/CPSC 440/Final Project/Offline/256_raw\"\n",
    "\n",
    "color_dir = \"C:/Users/ziven/OneDrive/School/UBC/Fourth Year/CPSC 440/Final Project/Offline/medset_multisize/color\"\n",
    "\n",
    "bw_dir = \"C:/Users/ziven/OneDrive/School/UBC/Fourth Year/CPSC 440/Final Project/Offline/medset_multisize/gray\"\n",
    "\n",
    "bw_half_dir = \"C:/Users/ziven/OneDrive/School/UBC/Fourth Year/CPSC 440/Final Project/Offline/medset_multisize/gray128\"\n",
    "\n",
    "bw_quarter_dir = \"C:/Users/ziven/OneDrive/School/UBC/Fourth Year/CPSC 440/Final Project/Offline/medset_multisize/gray64\"\n",
    "\n",
    "bw_eighth_dir = \"C:/Users/ziven/OneDrive/School/UBC/Fourth Year/CPSC 440/Final Project/Offline/medset_multisize/gray32\""
   ]
  },
  {
   "cell_type": "markdown",
   "metadata": {},
   "source": [
    "The following code block extracts images from a sub-directory structure (as they are in the aerial images dataset) and places them uniformly in one directory with unique numbers 1 thru whatever max is necessary. "
   ]
  },
  {
   "cell_type": "code",
   "execution_count": 2,
   "metadata": {},
   "outputs": [
    {
     "ename": "FileNotFoundError",
     "evalue": "[Errno 2] No such file or directory: 'C:/Users/ziven/OneDrive/School/UBC/Fourth Year/CPSC 440/Final Project/Offline/medset_multisize/color\\\\1.jpg'",
     "output_type": "error",
     "traceback": [
      "\u001b[1;31m---------------------------------------------------------------------------\u001b[0m",
      "\u001b[1;31mFileNotFoundError\u001b[0m                         Traceback (most recent call last)",
      "Cell \u001b[1;32mIn[2], line 28\u001b[0m\n\u001b[0;32m     25\u001b[0m \u001b[38;5;66;03m# Check if the aspect ratio is square\u001b[39;00m\n\u001b[0;32m     26\u001b[0m \u001b[38;5;28;01mif\u001b[39;00m width \u001b[38;5;241m==\u001b[39m height \u001b[38;5;129;01mand\u001b[39;00m width \u001b[38;5;241m>\u001b[39m\u001b[38;5;241m=\u001b[39m \u001b[38;5;241m256\u001b[39m:\n\u001b[0;32m     27\u001b[0m     \u001b[38;5;66;03m# Copy the image to the destination folder\u001b[39;00m\n\u001b[1;32m---> 28\u001b[0m     \u001b[43mshutil\u001b[49m\u001b[38;5;241;43m.\u001b[39;49m\u001b[43mcopy\u001b[49m\u001b[43m(\u001b[49m\u001b[43mfile\u001b[49m\u001b[43m,\u001b[49m\u001b[43m \u001b[49m\u001b[43mdestination_path\u001b[49m\u001b[43m)\u001b[49m\n\u001b[0;32m     29\u001b[0m     \u001b[38;5;66;03m# Increment the counter\u001b[39;00m\n\u001b[0;32m     30\u001b[0m     counter \u001b[38;5;241m+\u001b[39m\u001b[38;5;241m=\u001b[39m \u001b[38;5;241m1\u001b[39m\n",
      "File \u001b[1;32mC:\\Program Files\\WindowsApps\\PythonSoftwareFoundation.Python.3.10_3.10.3056.0_x64__qbz5n2kfra8p0\\lib\\shutil.py:417\u001b[0m, in \u001b[0;36mcopy\u001b[1;34m(src, dst, follow_symlinks)\u001b[0m\n\u001b[0;32m    415\u001b[0m \u001b[38;5;28;01mif\u001b[39;00m os\u001b[38;5;241m.\u001b[39mpath\u001b[38;5;241m.\u001b[39misdir(dst):\n\u001b[0;32m    416\u001b[0m     dst \u001b[38;5;241m=\u001b[39m os\u001b[38;5;241m.\u001b[39mpath\u001b[38;5;241m.\u001b[39mjoin(dst, os\u001b[38;5;241m.\u001b[39mpath\u001b[38;5;241m.\u001b[39mbasename(src))\n\u001b[1;32m--> 417\u001b[0m \u001b[43mcopyfile\u001b[49m\u001b[43m(\u001b[49m\u001b[43msrc\u001b[49m\u001b[43m,\u001b[49m\u001b[43m \u001b[49m\u001b[43mdst\u001b[49m\u001b[43m,\u001b[49m\u001b[43m \u001b[49m\u001b[43mfollow_symlinks\u001b[49m\u001b[38;5;241;43m=\u001b[39;49m\u001b[43mfollow_symlinks\u001b[49m\u001b[43m)\u001b[49m\n\u001b[0;32m    418\u001b[0m copymode(src, dst, follow_symlinks\u001b[38;5;241m=\u001b[39mfollow_symlinks)\n\u001b[0;32m    419\u001b[0m \u001b[38;5;28;01mreturn\u001b[39;00m dst\n",
      "File \u001b[1;32mC:\\Program Files\\WindowsApps\\PythonSoftwareFoundation.Python.3.10_3.10.3056.0_x64__qbz5n2kfra8p0\\lib\\shutil.py:256\u001b[0m, in \u001b[0;36mcopyfile\u001b[1;34m(src, dst, follow_symlinks)\u001b[0m\n\u001b[0;32m    254\u001b[0m \u001b[38;5;28;01mwith\u001b[39;00m \u001b[38;5;28mopen\u001b[39m(src, \u001b[38;5;124m'\u001b[39m\u001b[38;5;124mrb\u001b[39m\u001b[38;5;124m'\u001b[39m) \u001b[38;5;28;01mas\u001b[39;00m fsrc:\n\u001b[0;32m    255\u001b[0m     \u001b[38;5;28;01mtry\u001b[39;00m:\n\u001b[1;32m--> 256\u001b[0m         \u001b[38;5;28;01mwith\u001b[39;00m \u001b[38;5;28;43mopen\u001b[39;49m\u001b[43m(\u001b[49m\u001b[43mdst\u001b[49m\u001b[43m,\u001b[49m\u001b[43m \u001b[49m\u001b[38;5;124;43m'\u001b[39;49m\u001b[38;5;124;43mwb\u001b[39;49m\u001b[38;5;124;43m'\u001b[39;49m\u001b[43m)\u001b[49m \u001b[38;5;28;01mas\u001b[39;00m fdst:\n\u001b[0;32m    257\u001b[0m             \u001b[38;5;66;03m# macOS\u001b[39;00m\n\u001b[0;32m    258\u001b[0m             \u001b[38;5;28;01mif\u001b[39;00m _HAS_FCOPYFILE:\n\u001b[0;32m    259\u001b[0m                 \u001b[38;5;28;01mtry\u001b[39;00m:\n",
      "\u001b[1;31mFileNotFoundError\u001b[0m: [Errno 2] No such file or directory: 'C:/Users/ziven/OneDrive/School/UBC/Fourth Year/CPSC 440/Final Project/Offline/medset_multisize/color\\\\1.jpg'"
     ]
    }
   ],
   "source": [
    "# Get a list of all image files in nested folders\n",
    "files = glob.glob(raw_images_source + '/**/*.jpg', recursive=True)\n",
    "\n",
    "# Randomly shuffle the images, so we can partition them into training and testing based on number alone\n",
    "random.shuffle(files)\n",
    "\n",
    "counter = 1\n",
    "\n",
    "# Copy each image to the destination folder\n",
    "for file in files:\n",
    "    filename = os.path.basename(file)\n",
    "    new_filename = f\"{counter}.jpg\"\n",
    "    destination_path = os.path.join(color_raw_dir, new_filename)\n",
    "\n",
    "    # Ensure unique filenames\n",
    "    while os.path.exists(destination_path):\n",
    "        counter += 1\n",
    "        new_filename = f\"{counter}.jpg\"\n",
    "        destination_path = os.path.join(color_raw_dir, new_filename)\n",
    "\n",
    "    # Open the image to check its aspect ratio\n",
    "    img = Image.open(file)\n",
    "    width, height = img.size\n",
    "\n",
    "    # Check if the aspect ratio is square\n",
    "    if width == height and width >= 256:\n",
    "        # Copy the image to the destination folder\n",
    "        shutil.copy(file, destination_path)\n",
    "        # Increment the counter\n",
    "        counter += 1\n",
    "    else:\n",
    "        print(f\"Discarded {filename} because it is not square or has a dimension that is too small.\")\n",
    "\n",
    "print(\"All files copied with unique names.\")"
   ]
  },
  {
   "cell_type": "markdown",
   "metadata": {},
   "source": [
    "Downsample (if necessary) all images to 256x256"
   ]
  },
  {
   "cell_type": "code",
   "execution_count": null,
   "metadata": {},
   "outputs": [],
   "source": [
    "target_size = (256, 256)\n",
    "\n",
    "# Iterate through all files in the source directory\n",
    "for filename in os.listdir(color_raw_dir):\n",
    "    if filename.lower().endswith(\".jpg\"):\n",
    "        try:\n",
    "            # Open the image\n",
    "            img_path = os.path.join(color_raw_dir, filename)\n",
    "            img = Image.open(img_path)\n",
    "\n",
    "            # Resize the image while preserving aspect ratio\n",
    "            img.thumbnail(target_size, Image.ANTIALIAS)\n",
    "\n",
    "            # Save the resized image to the destination folder\n",
    "            new_filename = os.path.splitext(filename)[0] + \".jpg\"\n",
    "            img.save(os.path.join(color_dir, new_filename), \"JPEG\")\n",
    "\n",
    "            # print(f\"Resized {filename} to {target_size[0]}x{target_size[1]}\")\n",
    "        except Exception as e:\n",
    "            print(f\"Error processing {filename}: {e}\")\n",
    "\n",
    "print(\"All images resized\")"
   ]
  },
  {
   "cell_type": "markdown",
   "metadata": {},
   "source": [
    "Now, this code creates identically-named grayscale versions of the images in the \"gray\" directory of the dataset."
   ]
  },
  {
   "cell_type": "code",
   "execution_count": 9,
   "metadata": {},
   "outputs": [
    {
     "name": "stdout",
     "output_type": "stream",
     "text": [
      "All color images have been converted to grayscale.\n"
     ]
    }
   ],
   "source": [
    "# Iterate through all files in the source directory\n",
    "for filename in os.listdir(color_dir):\n",
    "    if filename.lower().endswith(\".jpg\"):\n",
    "        try:\n",
    "            # Open the color image\n",
    "            img_path = os.path.join(color_dir, filename)\n",
    "            img = Image.open(img_path)\n",
    "\n",
    "            # Convert to grayscale\n",
    "            gray_img = img.convert(\"L\")\n",
    "\n",
    "            # Save the grayscale image to the destination folder\n",
    "            new_filename = os.path.splitext(filename)[0] + \".jpg\"\n",
    "            gray_img.save(os.path.join(bw_dir, new_filename), \"JPEG\")\n",
    "\n",
    "            # print(f\"Converted {filename} to grayscale\")\n",
    "        except Exception as e:\n",
    "            print(f\"Error processing {filename}: {e}\")\n",
    "\n",
    "print(\"All color images have been converted to grayscale.\")"
   ]
  },
  {
   "cell_type": "markdown",
   "metadata": {},
   "source": [
    "The following code blocks create the successively smaller versions of the grayscale images."
   ]
  },
  {
   "cell_type": "code",
   "execution_count": 10,
   "metadata": {},
   "outputs": [
    {
     "name": "stderr",
     "output_type": "stream",
     "text": [
      "C:\\Users\\ziven\\AppData\\Local\\Temp\\ipykernel_42452\\1537371445.py:12: DeprecationWarning: ANTIALIAS is deprecated and will be removed in Pillow 10 (2023-07-01). Use LANCZOS or Resampling.LANCZOS instead.\n",
      "  img.thumbnail(target_size, Image.ANTIALIAS)\n"
     ]
    },
    {
     "name": "stdout",
     "output_type": "stream",
     "text": [
      "All images resized\n"
     ]
    }
   ],
   "source": [
    "target_size = (128, 128)\n",
    "\n",
    "# Iterate through all files in the source directory\n",
    "for filename in os.listdir(bw_dir):\n",
    "    if filename.lower().endswith(\".jpg\"):\n",
    "        try:\n",
    "            # Open the image\n",
    "            img_path = os.path.join(bw_dir, filename)\n",
    "            img = Image.open(img_path)\n",
    "\n",
    "            # Resize the image while preserving aspect ratio\n",
    "            img.thumbnail(target_size, Image.ANTIALIAS)\n",
    "\n",
    "            # Save the resized image to the destination folder\n",
    "            new_filename = os.path.splitext(filename)[0] + \".jpg\"\n",
    "            img.save(os.path.join(bw_half_dir, new_filename), \"JPEG\")\n",
    "\n",
    "            # print(f\"Resized {filename} to {target_size[0]}x{target_size[1]}\")\n",
    "        except Exception as e:\n",
    "            print(f\"Error processing {filename}: {e}\")\n",
    "\n",
    "print(\"All images resized\")"
   ]
  },
  {
   "cell_type": "code",
   "execution_count": 11,
   "metadata": {},
   "outputs": [
    {
     "name": "stderr",
     "output_type": "stream",
     "text": [
      "C:\\Users\\ziven\\AppData\\Local\\Temp\\ipykernel_42452\\370873211.py:12: DeprecationWarning: ANTIALIAS is deprecated and will be removed in Pillow 10 (2023-07-01). Use LANCZOS or Resampling.LANCZOS instead.\n",
      "  img.thumbnail(target_size, Image.ANTIALIAS)\n"
     ]
    },
    {
     "name": "stdout",
     "output_type": "stream",
     "text": [
      "All images resized\n"
     ]
    }
   ],
   "source": [
    "target_size = (64, 64)\n",
    "\n",
    "# Iterate through all files in the source directory\n",
    "for filename in os.listdir(bw_dir):\n",
    "    if filename.lower().endswith(\".jpg\"):\n",
    "        try:\n",
    "            # Open the image\n",
    "            img_path = os.path.join(bw_dir, filename)\n",
    "            img = Image.open(img_path)\n",
    "\n",
    "            # Resize the image while preserving aspect ratio\n",
    "            img.thumbnail(target_size, Image.ANTIALIAS)\n",
    "\n",
    "            # Save the resized image to the destination folder\n",
    "            new_filename = os.path.splitext(filename)[0] + \".jpg\"\n",
    "            img.save(os.path.join(bw_quarter_dir, new_filename), \"JPEG\")\n",
    "\n",
    "            # print(f\"Resized {filename} to {target_size[0]}x{target_size[1]}\")\n",
    "        except Exception as e:\n",
    "            print(f\"Error processing {filename}: {e}\")\n",
    "\n",
    "print(\"All images resized\")"
   ]
  },
  {
   "cell_type": "code",
   "execution_count": 12,
   "metadata": {},
   "outputs": [
    {
     "name": "stderr",
     "output_type": "stream",
     "text": [
      "C:\\Users\\ziven\\AppData\\Local\\Temp\\ipykernel_42452\\262898685.py:12: DeprecationWarning: ANTIALIAS is deprecated and will be removed in Pillow 10 (2023-07-01). Use LANCZOS or Resampling.LANCZOS instead.\n",
      "  img.thumbnail(target_size, Image.ANTIALIAS)\n"
     ]
    },
    {
     "name": "stdout",
     "output_type": "stream",
     "text": [
      "All images resized\n"
     ]
    }
   ],
   "source": [
    "target_size = (32, 32)\n",
    "\n",
    "# Iterate through all files in the source directory\n",
    "for filename in os.listdir(bw_dir):\n",
    "    if filename.lower().endswith(\".jpg\"):\n",
    "        try:\n",
    "            # Open the image\n",
    "            img_path = os.path.join(bw_dir, filename)\n",
    "            img = Image.open(img_path)\n",
    "\n",
    "            # Resize the image while preserving aspect ratio\n",
    "            img.thumbnail(target_size, Image.ANTIALIAS)\n",
    "\n",
    "            # Save the resized image to the destination folder\n",
    "            new_filename = os.path.splitext(filename)[0] + \".jpg\"\n",
    "            img.save(os.path.join(bw_eighth_dir, new_filename), \"JPEG\")\n",
    "\n",
    "            # print(f\"Resized {filename} to {target_size[0]}x{target_size[1]}\")\n",
    "        except Exception as e:\n",
    "            print(f\"Error processing {filename}: {e}\")\n",
    "\n",
    "print(\"All images resized\")"
   ]
  }
 ],
 "metadata": {
  "kernelspec": {
   "display_name": "Python 3",
   "language": "python",
   "name": "python3"
  },
  "language_info": {
   "codemirror_mode": {
    "name": "ipython",
    "version": 3
   },
   "file_extension": ".py",
   "mimetype": "text/x-python",
   "name": "python",
   "nbconvert_exporter": "python",
   "pygments_lexer": "ipython3",
   "version": "3.10.11"
  }
 },
 "nbformat": 4,
 "nbformat_minor": 2
}
