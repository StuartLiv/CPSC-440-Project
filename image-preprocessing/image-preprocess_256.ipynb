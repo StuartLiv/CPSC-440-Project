{
 "cells": [
  {
   "cell_type": "markdown",
   "metadata": {},
   "source": [
    "# Image Dataset Pre-Processing\n",
    "\n",
    "The following code takes our various color images from different online dataset sources (one folder with nested folders of different images inside), combines them, renames them uniformly, and resizes them all to 256x256 resolution. I'm using offline directories (on my local machine) outside of this repo because Github causes issues if I make more than 10000 changes at once.\n",
    "\n",
    "Further rescaling for compressed size datasets at the end."
   ]
  },
  {
   "cell_type": "code",
   "execution_count": 1,
   "metadata": {},
   "outputs": [],
   "source": [
    "import glob\n",
    "import shutil\n",
    "import os\n",
    "from PIL import Image\n",
    "import random\n",
    "\n",
    "# Source directory with subfolders\n",
    "raw_images_source = \"C:/Users/ziven/OneDrive/School/UBC/Fourth Year/CPSC 440/Final Project/Offline/original_med\"\n",
    "\n",
    "color_dir = \"C:/Users/ziven/OneDrive/School/UBC/Fourth Year/CPSC 440/Final Project/Offline/medset_multisize/color\"\n",
    "\n",
    "bw_dir = \"C:/Users/ziven/OneDrive/School/UBC/Fourth Year/CPSC 440/Final Project/Offline/medset_multisize/gray\"\n",
    "\n",
    "bw_half_dir = \"C:/Users/ziven/OneDrive/School/UBC/Fourth Year/CPSC 440/Final Project/Offline/medset_multisize/gray128\"\n",
    "\n",
    "bw_quarter_dir = \"C:/Users/ziven/OneDrive/School/UBC/Fourth Year/CPSC 440/Final Project/Offline/medset_multisize/gray64\"\n",
    "\n",
    "bw_eighth_dir = \"C:/Users/ziven/OneDrive/School/UBC/Fourth Year/CPSC 440/Final Project/Offline/medset_multisize/gray32\""
   ]
  },
  {
   "cell_type": "markdown",
   "metadata": {},
   "source": [
    "The following code block extracts images from a sub-directory structure (as they are in the aerial images dataset) and places them uniformly in one directory with unique numbers 1 thru whatever max is necessary. "
   ]
  },
  {
   "cell_type": "code",
   "execution_count": 2,
   "metadata": {},
   "outputs": [
    {
     "name": "stdout",
     "output_type": "stream",
     "text": [
      "All files copied with unique names.\n"
     ]
    }
   ],
   "source": [
    "# Get a list of all image files in nested folders\n",
    "files = glob.glob(raw_images_source + '/**/*.jpg', recursive=True)\n",
    "\n",
    "# Randomly shuffle the images, so we can partition them into training and testing based on number alone\n",
    "random.shuffle(files)\n",
    "\n",
    "counter = 1\n",
    "\n",
    "# Copy each image to the destination folder\n",
    "for file in files:\n",
    "    filename = os.path.basename(file)\n",
    "    new_filename = f\"{counter}.jpg\"\n",
    "    destination_path = os.path.join(color_dir, new_filename)\n",
    "\n",
    "    # Ensure unique filenames\n",
    "    while os.path.exists(destination_path):\n",
    "        counter += 1\n",
    "        new_filename = f\"{counter}.jpg\"\n",
    "        destination_path = os.path.join(color_dir, new_filename)\n",
    "\n",
    "    # Open the image to check its aspect ratio\n",
    "    img = Image.open(file)\n",
    "    width, height = img.size\n",
    "\n",
    "    # Check if the aspect ratio is square\n",
    "    if width == height and width >= 256:\n",
    "        # Copy the image to the destination folder\n",
    "        shutil.copy(file, destination_path)\n",
    "        # Increment the counter\n",
    "        counter += 1\n",
    "    else:\n",
    "        print(f\"Discarded {filename} because it is not square or has a dimension that is too small.\")\n",
    "\n",
    "print(\"All files copied with unique names.\")"
   ]
  },
  {
   "cell_type": "markdown",
   "metadata": {},
   "source": [
    "Now, this code creates identically-named grayscale versions of the images in the \"gray\" directory of the dataset."
   ]
  },
  {
   "cell_type": "code",
   "execution_count": 3,
   "metadata": {},
   "outputs": [
    {
     "name": "stdout",
     "output_type": "stream",
     "text": [
      "All color images have been converted to grayscale.\n"
     ]
    }
   ],
   "source": [
    "# Iterate through all files in the source directory\n",
    "for filename in os.listdir(color_dir):\n",
    "    if filename.lower().endswith(\".jpg\"):\n",
    "        try:\n",
    "            # Open the color image\n",
    "            img_path = os.path.join(color_dir, filename)\n",
    "            img = Image.open(img_path)\n",
    "\n",
    "            # Convert to grayscale\n",
    "            gray_img = img.convert(\"L\")\n",
    "\n",
    "            # Save the grayscale image to the destination folder\n",
    "            new_filename = os.path.splitext(filename)[0] + \".jpg\"\n",
    "            gray_img.save(os.path.join(bw_dir, new_filename), \"JPEG\")\n",
    "\n",
    "            # print(f\"Converted {filename} to grayscale\")\n",
    "        except Exception as e:\n",
    "            print(f\"Error processing {filename}: {e}\")\n",
    "\n",
    "print(\"All color images have been converted to grayscale.\")"
   ]
  },
  {
   "cell_type": "markdown",
   "metadata": {},
   "source": [
    "The following code blocks create the successively smaller versions of the grayscale images."
   ]
  },
  {
   "cell_type": "code",
   "execution_count": 4,
   "metadata": {},
   "outputs": [
    {
     "name": "stderr",
     "output_type": "stream",
     "text": [
      "C:\\Users\\ziven\\AppData\\Local\\Temp\\ipykernel_33408\\1604400816.py:12: DeprecationWarning: ANTIALIAS is deprecated and will be removed in Pillow 10 (2023-07-01). Use LANCZOS or Resampling.LANCZOS instead.\n",
      "  img.thumbnail(target_size, Image.ANTIALIAS)\n"
     ]
    },
    {
     "name": "stdout",
     "output_type": "stream",
     "text": [
      "All images resized\n"
     ]
    }
   ],
   "source": [
    "target_size = (128, 128)\n",
    "\n",
    "# Iterate through all files in the source directory\n",
    "for filename in os.listdir(bw_dir):\n",
    "    if filename.lower().endswith(\".jpg\"):\n",
    "        try:\n",
    "            # Open the image\n",
    "            img_path = os.path.join(bw_dir, filename)\n",
    "            img = Image.open(img_path)\n",
    "\n",
    "            # Resize the image while preserving aspect ratio\n",
    "            img.thumbnail(target_size, Image.ANTIALIAS)\n",
    "\n",
    "            # Save the resized image to the destination folder\n",
    "            new_filename = os.path.splitext(filename)[0] + \".jpg\"\n",
    "            img.save(os.path.join(bw_half_dir, new_filename), \"JPEG\")\n",
    "\n",
    "            # print(f\"Resized {filename} to {target_size[0]}x{target_size[1]}\")\n",
    "        except Exception as e:\n",
    "            print(f\"Error processing {filename}: {e}\")\n",
    "\n",
    "print(\"All images resized\")"
   ]
  },
  {
   "cell_type": "code",
   "execution_count": 5,
   "metadata": {},
   "outputs": [
    {
     "name": "stderr",
     "output_type": "stream",
     "text": [
      "C:\\Users\\ziven\\AppData\\Local\\Temp\\ipykernel_33408\\1142740341.py:12: DeprecationWarning: ANTIALIAS is deprecated and will be removed in Pillow 10 (2023-07-01). Use LANCZOS or Resampling.LANCZOS instead.\n",
      "  img.thumbnail(target_size, Image.ANTIALIAS)\n"
     ]
    },
    {
     "name": "stdout",
     "output_type": "stream",
     "text": [
      "All images resized\n"
     ]
    }
   ],
   "source": [
    "target_size = (64, 64)\n",
    "\n",
    "# Iterate through all files in the source directory\n",
    "for filename in os.listdir(bw_dir):\n",
    "    if filename.lower().endswith(\".jpg\"):\n",
    "        try:\n",
    "            # Open the image\n",
    "            img_path = os.path.join(bw_dir, filename)\n",
    "            img = Image.open(img_path)\n",
    "\n",
    "            # Resize the image while preserving aspect ratio\n",
    "            img.thumbnail(target_size, Image.ANTIALIAS)\n",
    "\n",
    "            # Save the resized image to the destination folder\n",
    "            new_filename = os.path.splitext(filename)[0] + \".jpg\"\n",
    "            img.save(os.path.join(bw_quarter_dir, new_filename), \"JPEG\")\n",
    "\n",
    "            # print(f\"Resized {filename} to {target_size[0]}x{target_size[1]}\")\n",
    "        except Exception as e:\n",
    "            print(f\"Error processing {filename}: {e}\")\n",
    "\n",
    "print(\"All images resized\")"
   ]
  },
  {
   "cell_type": "code",
   "execution_count": 6,
   "metadata": {},
   "outputs": [
    {
     "name": "stderr",
     "output_type": "stream",
     "text": [
      "C:\\Users\\ziven\\AppData\\Local\\Temp\\ipykernel_33408\\2183487880.py:12: DeprecationWarning: ANTIALIAS is deprecated and will be removed in Pillow 10 (2023-07-01). Use LANCZOS or Resampling.LANCZOS instead.\n",
      "  img.thumbnail(target_size, Image.ANTIALIAS)\n"
     ]
    },
    {
     "name": "stdout",
     "output_type": "stream",
     "text": [
      "All images resized\n"
     ]
    }
   ],
   "source": [
    "target_size = (32, 32)\n",
    "\n",
    "# Iterate through all files in the source directory\n",
    "for filename in os.listdir(bw_dir):\n",
    "    if filename.lower().endswith(\".jpg\"):\n",
    "        try:\n",
    "            # Open the image\n",
    "            img_path = os.path.join(bw_dir, filename)\n",
    "            img = Image.open(img_path)\n",
    "\n",
    "            # Resize the image while preserving aspect ratio\n",
    "            img.thumbnail(target_size, Image.ANTIALIAS)\n",
    "\n",
    "            # Save the resized image to the destination folder\n",
    "            new_filename = os.path.splitext(filename)[0] + \".jpg\"\n",
    "            img.save(os.path.join(bw_eighth_dir, new_filename), \"JPEG\")\n",
    "\n",
    "            # print(f\"Resized {filename} to {target_size[0]}x{target_size[1]}\")\n",
    "        except Exception as e:\n",
    "            print(f\"Error processing {filename}: {e}\")\n",
    "\n",
    "print(\"All images resized\")"
   ]
  }
 ],
 "metadata": {
  "kernelspec": {
   "display_name": "Python 3",
   "language": "python",
   "name": "python3"
  },
  "language_info": {
   "codemirror_mode": {
    "name": "ipython",
    "version": 3
   },
   "file_extension": ".py",
   "mimetype": "text/x-python",
   "name": "python",
   "nbconvert_exporter": "python",
   "pygments_lexer": "ipython3",
   "version": "3.10.11"
  }
 },
 "nbformat": 4,
 "nbformat_minor": 2
}
