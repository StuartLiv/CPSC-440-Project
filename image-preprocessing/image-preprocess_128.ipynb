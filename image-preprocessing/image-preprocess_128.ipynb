{
 "cells": [
  {
   "cell_type": "markdown",
   "metadata": {},
   "source": [
    "# Image Dataset Pre-Processing\n",
    "\n",
    "The following code takes our various color images from different online dataset sources (one folder with nested folders of different images inside), combines them, renames them uniformly, and resizes them all to 128x128 resolution. I'm using offline directories (on my local machine) outside of this repo because Github causes issues if I make more than 10000 changes at once.\n",
    "\n",
    "Further rescaling for compressed size datasets at the end."
   ]
  },
  {
   "cell_type": "code",
   "execution_count": 6,
   "metadata": {},
   "outputs": [],
   "source": [
    "import glob\n",
    "import shutil\n",
    "import os\n",
    "from PIL import Image\n",
    "import random\n",
    "\n",
    "# Source directory with subfolders\n",
    "raw_images_source = \"C:/Users/ziven/OneDrive/School/UBC/Fourth Year/CPSC 440/Final Project/Offline/original\"\n",
    "# temp directory to store all color images before uniform scaling\n",
    "color_raw_dir = \"C:/Users/ziven/OneDrive/School/UBC/Fourth Year/CPSC 440/Final Project/Offline/color_raw\"\n",
    "# final dataset color directory\n",
    "color_dir = \"C:/Users/ziven/OneDrive/School/UBC/Fourth Year/CPSC 440/Final Project/Offline/largeset_multisize_v2/color\"\n",
    "# final dataset grayscale black & white directory\n",
    "bw_dir = \"C:/Users/ziven/OneDrive/School/UBC/Fourth Year/CPSC 440/Final Project/Offline/largeset_multisize_v2/gray\"\n",
    "\n",
    "bw_half_dir = \"C:/Users/ziven/OneDrive/School/UBC/Fourth Year/CPSC 440/Final Project/Offline/largeset_multisize_v2/gray64\"\n",
    "\n",
    "bw_quarter_dir = \"C:/Users/ziven/OneDrive/School/UBC/Fourth Year/CPSC 440/Final Project/Offline/largeset_multisize_v2/gray32\"\n",
    "\n",
    "bw_eighth_dir = \"C:/Users/ziven/OneDrive/School/UBC/Fourth Year/CPSC 440/Final Project/Offline/largeset_multisize_v2/gray16\""
   ]
  },
  {
   "cell_type": "markdown",
   "metadata": {},
   "source": [
    "The following code block extracts images from a sub-directory structure (as they are in the aerial images dataset) and places them uniformly in one directory with unique numbers 1 thru whatever max is necessary. "
   ]
  },
  {
   "cell_type": "code",
   "execution_count": 7,
   "metadata": {},
   "outputs": [
    {
     "name": "stdout",
     "output_type": "stream",
     "text": [
      "Discarded 4014.jpg because it is not square or has a dimension that is too small.\n",
      "Discarded 4462.jpg because it is not square or has a dimension that is too small.\n",
      "Discarded 3255.jpg because it is not square or has a dimension that is too small.\n",
      "Discarded 1093.jpg because it is not square or has a dimension that is too small.\n",
      "Discarded 4467.jpg because it is not square or has a dimension that is too small.\n",
      "Discarded 3105.jpg because it is not square or has a dimension that is too small.\n",
      "Discarded 6241.jpg because it is not square or has a dimension that is too small.\n",
      "Discarded 3664.jpg because it is not square or has a dimension that is too small.\n",
      "Discarded 619.jpg because it is not square or has a dimension that is too small.\n",
      "Discarded 6307.jpg because it is not square or has a dimension that is too small.\n",
      "Discarded 1804.jpg because it is not square or has a dimension that is too small.\n",
      "Discarded 3416.jpg because it is not square or has a dimension that is too small.\n",
      "Discarded 3128.jpg because it is not square or has a dimension that is too small.\n",
      "Discarded 3321.jpg because it is not square or has a dimension that is too small.\n",
      "Discarded 3251.jpg because it is not square or has a dimension that is too small.\n",
      "Discarded 3379.jpg because it is not square or has a dimension that is too small.\n",
      "Discarded 223.jpg because it is not square or has a dimension that is too small.\n",
      "Discarded 624.jpg because it is not square or has a dimension that is too small.\n",
      "Discarded 2778.jpg because it is not square or has a dimension that is too small.\n",
      "Discarded 6045.jpg because it is not square or has a dimension that is too small.\n",
      "Discarded 6940.jpg because it is not square or has a dimension that is too small.\n",
      "Discarded 5825.jpg because it is not square or has a dimension that is too small.\n",
      "Discarded 6699.jpg because it is not square or has a dimension that is too small.\n",
      "All files copied with unique names.\n"
     ]
    }
   ],
   "source": [
    "# Get a list of all image files in nested folders\n",
    "files = glob.glob(raw_images_source + '/**/*.jpg', recursive=True)\n",
    "\n",
    "# Randomly shuffle the images, so we can partition them into training and testing based on number alone\n",
    "random.shuffle(files)\n",
    "\n",
    "counter = 1\n",
    "\n",
    "# Copy each image to the destination folder\n",
    "for file in files:\n",
    "    filename = os.path.basename(file)\n",
    "    new_filename = f\"{counter}.jpg\"\n",
    "    destination_path = os.path.join(color_raw_dir, new_filename)\n",
    "\n",
    "    # Ensure unique filenames\n",
    "    while os.path.exists(destination_path):\n",
    "        counter += 1\n",
    "        new_filename = f\"{counter}.jpg\"\n",
    "        destination_path = os.path.join(color_raw_dir, new_filename)\n",
    "\n",
    "    # Open the image to check its aspect ratio\n",
    "    img = Image.open(file)\n",
    "    width, height = img.size\n",
    "\n",
    "    # Check if the aspect ratio is square\n",
    "    if width == height and width >= 128:\n",
    "        # Copy the image to the destination folder\n",
    "        shutil.copy(file, destination_path)\n",
    "        # Increment the counter\n",
    "        counter += 1\n",
    "    else:\n",
    "        print(f\"Discarded {filename} because it is not square or has a dimension that is too small.\")\n",
    "\n",
    "print(\"All files copied with unique names.\")"
   ]
  },
  {
   "cell_type": "markdown",
   "metadata": {},
   "source": [
    "This code rescales all the images in the color directory to 128x128 (technically this is losing a bit more resolution than we need to in order to get uniform sizes, hoping this shouldn't be too much of a quality hit, as it would be good to get everything to a round power of 2 for our compressed images later)."
   ]
  },
  {
   "cell_type": "code",
   "execution_count": 8,
   "metadata": {},
   "outputs": [
    {
     "name": "stderr",
     "output_type": "stream",
     "text": [
      "C:\\Users\\ziven\\AppData\\Local\\Temp\\ipykernel_42452\\1241538531.py:12: DeprecationWarning: ANTIALIAS is deprecated and will be removed in Pillow 10 (2023-07-01). Use LANCZOS or Resampling.LANCZOS instead.\n",
      "  img.thumbnail(target_size, Image.ANTIALIAS)\n"
     ]
    },
    {
     "name": "stdout",
     "output_type": "stream",
     "text": [
      "All images resized\n"
     ]
    }
   ],
   "source": [
    "target_size = (128, 128)\n",
    "\n",
    "# Iterate through all files in the source directory\n",
    "for filename in os.listdir(color_raw_dir):\n",
    "    if filename.lower().endswith(\".jpg\"):\n",
    "        try:\n",
    "            # Open the image\n",
    "            img_path = os.path.join(color_raw_dir, filename)\n",
    "            img = Image.open(img_path)\n",
    "\n",
    "            # Resize the image while preserving aspect ratio\n",
    "            img.thumbnail(target_size, Image.ANTIALIAS)\n",
    "\n",
    "            # Save the resized image to the destination folder\n",
    "            new_filename = os.path.splitext(filename)[0] + \".jpg\"\n",
    "            img.save(os.path.join(color_dir, new_filename), \"JPEG\")\n",
    "\n",
    "            # print(f\"Resized {filename} to {target_size[0]}x{target_size[1]}\")\n",
    "        except Exception as e:\n",
    "            print(f\"Error processing {filename}: {e}\")\n",
    "\n",
    "print(\"All images resized\")"
   ]
  },
  {
   "cell_type": "markdown",
   "metadata": {},
   "source": [
    "Now, this code creates identically-named grayscale versions of the images in the \"gray\" directory of the dataset."
   ]
  },
  {
   "cell_type": "code",
   "execution_count": 9,
   "metadata": {},
   "outputs": [
    {
     "name": "stdout",
     "output_type": "stream",
     "text": [
      "All color images have been converted to grayscale.\n"
     ]
    }
   ],
   "source": [
    "# Iterate through all files in the source directory\n",
    "for filename in os.listdir(color_dir):\n",
    "    if filename.lower().endswith(\".jpg\"):\n",
    "        try:\n",
    "            # Open the color image\n",
    "            img_path = os.path.join(color_dir, filename)\n",
    "            img = Image.open(img_path)\n",
    "\n",
    "            # Convert to grayscale\n",
    "            gray_img = img.convert(\"L\")\n",
    "\n",
    "            # Save the grayscale image to the destination folder\n",
    "            new_filename = os.path.splitext(filename)[0] + \".jpg\"\n",
    "            gray_img.save(os.path.join(bw_dir, new_filename), \"JPEG\")\n",
    "\n",
    "            # print(f\"Converted {filename} to grayscale\")\n",
    "        except Exception as e:\n",
    "            print(f\"Error processing {filename}: {e}\")\n",
    "\n",
    "print(\"All color images have been converted to grayscale.\")"
   ]
  },
  {
   "cell_type": "markdown",
   "metadata": {},
   "source": [
    "The following code blocks create the successively smaller versions of the grayscale images."
   ]
  },
  {
   "cell_type": "code",
   "execution_count": 10,
   "metadata": {},
   "outputs": [
    {
     "name": "stderr",
     "output_type": "stream",
     "text": [
      "C:\\Users\\ziven\\AppData\\Local\\Temp\\ipykernel_42452\\1537371445.py:12: DeprecationWarning: ANTIALIAS is deprecated and will be removed in Pillow 10 (2023-07-01). Use LANCZOS or Resampling.LANCZOS instead.\n",
      "  img.thumbnail(target_size, Image.ANTIALIAS)\n"
     ]
    },
    {
     "name": "stdout",
     "output_type": "stream",
     "text": [
      "All images resized\n"
     ]
    }
   ],
   "source": [
    "target_size = (64, 64)\n",
    "\n",
    "# Iterate through all files in the source directory\n",
    "for filename in os.listdir(bw_dir):\n",
    "    if filename.lower().endswith(\".jpg\"):\n",
    "        try:\n",
    "            # Open the image\n",
    "            img_path = os.path.join(bw_dir, filename)\n",
    "            img = Image.open(img_path)\n",
    "\n",
    "            # Resize the image while preserving aspect ratio\n",
    "            img.thumbnail(target_size, Image.ANTIALIAS)\n",
    "\n",
    "            # Save the resized image to the destination folder\n",
    "            new_filename = os.path.splitext(filename)[0] + \".jpg\"\n",
    "            img.save(os.path.join(bw_half_dir, new_filename), \"JPEG\")\n",
    "\n",
    "            # print(f\"Resized {filename} to {target_size[0]}x{target_size[1]}\")\n",
    "        except Exception as e:\n",
    "            print(f\"Error processing {filename}: {e}\")\n",
    "\n",
    "print(\"All images resized\")"
   ]
  },
  {
   "cell_type": "code",
   "execution_count": 11,
   "metadata": {},
   "outputs": [
    {
     "name": "stderr",
     "output_type": "stream",
     "text": [
      "C:\\Users\\ziven\\AppData\\Local\\Temp\\ipykernel_42452\\370873211.py:12: DeprecationWarning: ANTIALIAS is deprecated and will be removed in Pillow 10 (2023-07-01). Use LANCZOS or Resampling.LANCZOS instead.\n",
      "  img.thumbnail(target_size, Image.ANTIALIAS)\n"
     ]
    },
    {
     "name": "stdout",
     "output_type": "stream",
     "text": [
      "All images resized\n"
     ]
    }
   ],
   "source": [
    "target_size = (32, 32)\n",
    "\n",
    "# Iterate through all files in the source directory\n",
    "for filename in os.listdir(bw_dir):\n",
    "    if filename.lower().endswith(\".jpg\"):\n",
    "        try:\n",
    "            # Open the image\n",
    "            img_path = os.path.join(bw_dir, filename)\n",
    "            img = Image.open(img_path)\n",
    "\n",
    "            # Resize the image while preserving aspect ratio\n",
    "            img.thumbnail(target_size, Image.ANTIALIAS)\n",
    "\n",
    "            # Save the resized image to the destination folder\n",
    "            new_filename = os.path.splitext(filename)[0] + \".jpg\"\n",
    "            img.save(os.path.join(bw_quarter_dir, new_filename), \"JPEG\")\n",
    "\n",
    "            # print(f\"Resized {filename} to {target_size[0]}x{target_size[1]}\")\n",
    "        except Exception as e:\n",
    "            print(f\"Error processing {filename}: {e}\")\n",
    "\n",
    "print(\"All images resized\")"
   ]
  },
  {
   "cell_type": "code",
   "execution_count": 12,
   "metadata": {},
   "outputs": [
    {
     "name": "stderr",
     "output_type": "stream",
     "text": [
      "C:\\Users\\ziven\\AppData\\Local\\Temp\\ipykernel_42452\\262898685.py:12: DeprecationWarning: ANTIALIAS is deprecated and will be removed in Pillow 10 (2023-07-01). Use LANCZOS or Resampling.LANCZOS instead.\n",
      "  img.thumbnail(target_size, Image.ANTIALIAS)\n"
     ]
    },
    {
     "name": "stdout",
     "output_type": "stream",
     "text": [
      "All images resized\n"
     ]
    }
   ],
   "source": [
    "target_size = (16, 16)\n",
    "\n",
    "# Iterate through all files in the source directory\n",
    "for filename in os.listdir(bw_dir):\n",
    "    if filename.lower().endswith(\".jpg\"):\n",
    "        try:\n",
    "            # Open the image\n",
    "            img_path = os.path.join(bw_dir, filename)\n",
    "            img = Image.open(img_path)\n",
    "\n",
    "            # Resize the image while preserving aspect ratio\n",
    "            img.thumbnail(target_size, Image.ANTIALIAS)\n",
    "\n",
    "            # Save the resized image to the destination folder\n",
    "            new_filename = os.path.splitext(filename)[0] + \".jpg\"\n",
    "            img.save(os.path.join(bw_eighth_dir, new_filename), \"JPEG\")\n",
    "\n",
    "            # print(f\"Resized {filename} to {target_size[0]}x{target_size[1]}\")\n",
    "        except Exception as e:\n",
    "            print(f\"Error processing {filename}: {e}\")\n",
    "\n",
    "print(\"All images resized\")"
   ]
  }
 ],
 "metadata": {
  "kernelspec": {
   "display_name": "Python 3",
   "language": "python",
   "name": "python3"
  },
  "language_info": {
   "codemirror_mode": {
    "name": "ipython",
    "version": 3
   },
   "file_extension": ".py",
   "mimetype": "text/x-python",
   "name": "python",
   "nbconvert_exporter": "python",
   "pygments_lexer": "ipython3",
   "version": "3.10.11"
  }
 },
 "nbformat": 4,
 "nbformat_minor": 2
}
