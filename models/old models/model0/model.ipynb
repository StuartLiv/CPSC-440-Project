{
  "nbformat": 4,
  "nbformat_minor": 0,
  "metadata": {
    "colab": {
      "provenance": [],
      "gpuType": "T4",
      "include_colab_link": true
    },
    "kernelspec": {
      "name": "python3",
      "display_name": "Python 3"
    },
    "language_info": {
      "name": "python"
    },
    "accelerator": "GPU"
  },
  "cells": [
    {
      "cell_type": "markdown",
      "metadata": {
        "id": "view-in-github",
        "colab_type": "text"
      },
      "source": [
        "<a href=\"https://colab.research.google.com/github/StuartLiv/CPSC-440-Project/blob/main/model0/model.ipynb\" target=\"_parent\"><img src=\"https://colab.research.google.com/assets/colab-badge.svg\" alt=\"Open In Colab\"/></a>"
      ]
    },
    {
      "cell_type": "code",
      "source": [
        "import os\n",
        "from tqdm import tqdm\n",
        "import re\n",
        "from keras.preprocessing.image import img_to_array # TODO don't use keras\n",
        "import cv2 as cv\n",
        "import matplotlib.pyplot as plt\n",
        "import numpy as np\n",
        "\n",
        "import torch\n",
        "import torch.nn as nn\n",
        "import torch.optim as optim\n",
        "import random\n",
        "\n"
      ],
      "metadata": {
        "id": "N-_96eljZSnh"
      },
      "execution_count": 2,
      "outputs": []
    },
    {
      "cell_type": "markdown",
      "source": [
        "# 2. Preprocess data\n",
        "\n",
        "Datasets:\n",
        "- `smallset_onesize` [DEPRECATED - DO NOT USE]\n",
        "  - Downloaded as is, [here](https://www.kaggle.com/datasets/theblackmamba31/landscape-image-colorization).\n",
        "  - 7130 color/gray pairs\n",
        "  - Res 150x150\n",
        "  - 0.232GB\n",
        "- `largeset_multisize` [USE THIS ONE]\n",
        "  - Stored in Github repo, made from combination of other datasets. Dataset construction code in repo too\n",
        "  - 18329 color/gray pairs. (actually 18328 - had to delete photo 2507 due to strange resolution issues)\n",
        "  - Res 128x128 (grayscale images also available in 64x64, 32x32, 16x16)\n",
        "  - 401 MB\n",
        "\n"
      ],
      "metadata": {
        "id": "y1rkmEoxY0bM"
      }
    },
    {
      "cell_type": "code",
      "source": [
        "\n",
        "\n",
        "''' Returns an array containing all images in folder, sorted by filename. Useful for color/gray/downsize versions in different folders with same filename.\n",
        "@param path - directory with images\n",
        "@return\n",
        "'''\n",
        "def make_image_arr(path):\n",
        "\n",
        "  def sorted_alphanumeric(data):\n",
        "    convert = lambda text: int(text) if text.isdigit() else text.lower()\n",
        "    alphanum_key = lambda key: [convert(c) for c in re.split('([0-9]+)',key)]\n",
        "    return sorted(data,key = alphanum_key)\n",
        "\n",
        "  files = os.listdir(path)\n",
        "  files = sorted_alphanumeric(files)\n",
        "\n",
        "  arr = []\n",
        "  for i in tqdm(files):\n",
        "    img = cv.imread(path + '/'+i,1)\n",
        "    img = img.astype('float32') / 255\n",
        "    arr.append(img_to_array(img))\n",
        "\n",
        "  return arr\n"
      ],
      "metadata": {
        "id": "nmb6y7FQUO24"
      },
      "execution_count": 3,
      "outputs": []
    },
    {
      "cell_type": "code",
      "source": [
        "color_arr = make_image_arr('/content/CPSC-440-Project/datasets/largeset_multisize/color')"
      ],
      "metadata": {
        "id": "nbS2bT3vXKJc",
        "outputId": "7019e5a4-48c0-4a6a-fc8d-2edb76b41736",
        "colab": {
          "base_uri": "https://localhost:8080/"
        }
      },
      "execution_count": 6,
      "outputs": [
        {
          "output_type": "stream",
          "name": "stderr",
          "text": [
            "100%|██████████| 18328/18328 [00:08<00:00, 2246.49it/s]\n"
          ]
        }
      ]
    },
    {
      "cell_type": "code",
      "source": [
        "gray_arr = make_image_arr('/content/CPSC-440-Project/datasets/largeset_multisize/gray')"
      ],
      "metadata": {
        "id": "qw2f7e7PZpBi",
        "outputId": "d7ef4f63-3894-4393-dc44-d219f3ac5f3f",
        "colab": {
          "base_uri": "https://localhost:8080/"
        }
      },
      "execution_count": 7,
      "outputs": [
        {
          "output_type": "stream",
          "name": "stderr",
          "text": [
            "100%|██████████| 18328/18328 [00:07<00:00, 2564.89it/s]\n"
          ]
        }
      ]
    },
    {
      "cell_type": "code",
      "source": [
        "# Make a tensor list of reformatted images (based on Stuarts's axis swap)\n",
        "gray_tensors = []\n",
        "\n",
        "for image in gray_arr:\n",
        "    # Convert each image to a PyTorch tensor\n",
        "    t = torch.from_numpy(np.moveaxis(image, [2, 1], [0, 2]))\n",
        "    gray_tensors.append(t)\n",
        "\n",
        "color_tensors = []\n",
        "\n",
        "for image in color_arr:\n",
        "    # Convert each image to a PyTorch tensor\n",
        "    t = torch.from_numpy(np.moveaxis(image, [2, 1], [0, 2]))\n",
        "    color_tensors.append(t)"
      ],
      "metadata": {
        "id": "-oP-qMDO6Yt0"
      },
      "execution_count": 8,
      "outputs": []
    },
    {
      "cell_type": "markdown",
      "source": [
        "# 3. Model\n",
        "Toy model generated below:"
      ],
      "metadata": {
        "id": "WnA0Wvam63vM"
      }
    },
    {
      "cell_type": "code",
      "execution_count": 9,
      "metadata": {
        "id": "kL2B0zg4cEoR"
      },
      "outputs": [],
      "source": [
        "# prompt: pytorch colourization autoencoder\n",
        "\n",
        "class Autoencoder(nn.Module):\n",
        "    def __init__(self):\n",
        "        super(Autoencoder, self).__init__()\n",
        "        # Encoder\n",
        "        self.encoder = nn.Sequential(\n",
        "            nn.Conv2d(3, 16, 3, padding=1),\n",
        "            nn.ReLU(),\n",
        "            nn.MaxPool2d(2, 2),\n",
        "            nn.Conv2d(16, 32, 3, padding=1),\n",
        "            nn.ReLU(),\n",
        "            nn.MaxPool2d(2, 2),\n",
        "            nn.Conv2d(32, 64, 3, padding=1),\n",
        "            nn.ReLU(),\n",
        "            nn.MaxPool2d(2, 2),\n",
        "        )\n",
        "        # Decoder\n",
        "        self.decoder = nn.Sequential(\n",
        "            nn.ConvTranspose2d(64, 32, 3, stride=2, padding=1, output_padding=1),\n",
        "            nn.ReLU(),\n",
        "            nn.ConvTranspose2d(32, 16, 3, stride=2, padding=1, output_padding=1),\n",
        "            nn.ReLU(),\n",
        "            nn.ConvTranspose2d(16, 3, 3, stride=2, padding=1, output_padding=1),\n",
        "            nn.Sigmoid(),\n",
        "        )\n",
        "    def forward(self, x):\n",
        "        encoded = self.encoder(x)\n",
        "        decoded = self.decoder(encoded)\n",
        "        return decoded\n",
        "\n",
        "# Create the autoencoder\n",
        "autoencoder = Autoencoder()\n",
        "\n"
      ]
    },
    {
      "cell_type": "markdown",
      "source": [
        "Train toy model:"
      ],
      "metadata": {
        "id": "VXhtJNte5hpi"
      }
    },
    {
      "cell_type": "code",
      "source": [
        "criterion = nn.MSELoss()\n",
        "optimizer = optim.Adam(autoencoder.parameters(), lr=0.001)\n",
        "\n",
        "# Training loop\n",
        "num_epochs = 1\n",
        "for epoch in range(num_epochs):\n",
        "    running_loss = 0.0\n",
        "    for i in range(len(gray_arr)):\n",
        "        if (gray_tensors[i].size() != torch.Size([3, 128, 128])):\n",
        "          continue # turns out there are some non-square images (like maybe 5 or 10 total) in the original smallset dataset, and so they're here too... temporary fix\n",
        "\n",
        "        inputs = gray_tensors[i].unsqueeze(0)  # Add batch dimension\n",
        "        targets = color_tensors[i].unsqueeze(0)  # Add batch dimension\n",
        "\n",
        "        optimizer.zero_grad()\n",
        "        outputs = autoencoder(inputs)\n",
        "        loss = criterion(outputs, targets)\n",
        "        loss.backward()\n",
        "        optimizer.step()\n",
        "        running_loss += loss.item()\n",
        "\n",
        "    print('[%d] loss: %.3f' % (epoch + 1, running_loss / len(gray_arr)))\n",
        "\n",
        "print('Finished Training')"
      ],
      "metadata": {
        "id": "NeDpsh565caS",
        "outputId": "cbe0cfe3-a4a3-42fa-b7f3-8a15ad232d03",
        "colab": {
          "base_uri": "https://localhost:8080/"
        }
      },
      "execution_count": 10,
      "outputs": [
        {
          "output_type": "stream",
          "name": "stdout",
          "text": [
            "[1] loss: 0.010\n",
            "Finished Training\n"
          ]
        }
      ]
    },
    {
      "cell_type": "markdown",
      "source": [
        "# Visualize model\n",
        "\n",
        "Using [pytorchviz](https://github.com/szagoruyko/pytorchviz)!"
      ],
      "metadata": {
        "id": "uf4neAVh8hhN"
      }
    },
    {
      "cell_type": "code",
      "source": [
        "!pip install torchviz"
      ],
      "metadata": {
        "colab": {
          "base_uri": "https://localhost:8080/"
        },
        "id": "CGjwmGSM6I_2",
        "outputId": "1be5ef39-5bea-46a2-d26c-91d7eb1c840d"
      },
      "execution_count": null,
      "outputs": [
        {
          "output_type": "stream",
          "name": "stdout",
          "text": [
            "Collecting torchviz\n",
            "  Downloading torchviz-0.0.2.tar.gz (4.9 kB)\n",
            "  Preparing metadata (setup.py) ... \u001b[?25l\u001b[?25hdone\n",
            "Requirement already satisfied: torch in /usr/local/lib/python3.10/dist-packages (from torchviz) (2.2.1+cu121)\n",
            "Requirement already satisfied: graphviz in /usr/local/lib/python3.10/dist-packages (from torchviz) (0.20.3)\n",
            "Requirement already satisfied: filelock in /usr/local/lib/python3.10/dist-packages (from torch->torchviz) (3.13.4)\n",
            "Requirement already satisfied: typing-extensions>=4.8.0 in /usr/local/lib/python3.10/dist-packages (from torch->torchviz) (4.11.0)\n",
            "Requirement already satisfied: sympy in /usr/local/lib/python3.10/dist-packages (from torch->torchviz) (1.12)\n",
            "Requirement already satisfied: networkx in /usr/local/lib/python3.10/dist-packages (from torch->torchviz) (3.3)\n",
            "Requirement already satisfied: jinja2 in /usr/local/lib/python3.10/dist-packages (from torch->torchviz) (3.1.3)\n",
            "Requirement already satisfied: fsspec in /usr/local/lib/python3.10/dist-packages (from torch->torchviz) (2023.6.0)\n",
            "Collecting nvidia-cuda-nvrtc-cu12==12.1.105 (from torch->torchviz)\n",
            "  Using cached nvidia_cuda_nvrtc_cu12-12.1.105-py3-none-manylinux1_x86_64.whl (23.7 MB)\n",
            "Collecting nvidia-cuda-runtime-cu12==12.1.105 (from torch->torchviz)\n",
            "  Using cached nvidia_cuda_runtime_cu12-12.1.105-py3-none-manylinux1_x86_64.whl (823 kB)\n",
            "Collecting nvidia-cuda-cupti-cu12==12.1.105 (from torch->torchviz)\n",
            "  Using cached nvidia_cuda_cupti_cu12-12.1.105-py3-none-manylinux1_x86_64.whl (14.1 MB)\n",
            "Collecting nvidia-cudnn-cu12==8.9.2.26 (from torch->torchviz)\n",
            "  Using cached nvidia_cudnn_cu12-8.9.2.26-py3-none-manylinux1_x86_64.whl (731.7 MB)\n",
            "Collecting nvidia-cublas-cu12==12.1.3.1 (from torch->torchviz)\n",
            "  Using cached nvidia_cublas_cu12-12.1.3.1-py3-none-manylinux1_x86_64.whl (410.6 MB)\n",
            "Collecting nvidia-cufft-cu12==11.0.2.54 (from torch->torchviz)\n",
            "  Using cached nvidia_cufft_cu12-11.0.2.54-py3-none-manylinux1_x86_64.whl (121.6 MB)\n",
            "Collecting nvidia-curand-cu12==10.3.2.106 (from torch->torchviz)\n",
            "  Using cached nvidia_curand_cu12-10.3.2.106-py3-none-manylinux1_x86_64.whl (56.5 MB)\n",
            "Collecting nvidia-cusolver-cu12==11.4.5.107 (from torch->torchviz)\n",
            "  Using cached nvidia_cusolver_cu12-11.4.5.107-py3-none-manylinux1_x86_64.whl (124.2 MB)\n",
            "Collecting nvidia-cusparse-cu12==12.1.0.106 (from torch->torchviz)\n",
            "  Using cached nvidia_cusparse_cu12-12.1.0.106-py3-none-manylinux1_x86_64.whl (196.0 MB)\n",
            "Collecting nvidia-nccl-cu12==2.19.3 (from torch->torchviz)\n",
            "  Using cached nvidia_nccl_cu12-2.19.3-py3-none-manylinux1_x86_64.whl (166.0 MB)\n",
            "Collecting nvidia-nvtx-cu12==12.1.105 (from torch->torchviz)\n",
            "  Using cached nvidia_nvtx_cu12-12.1.105-py3-none-manylinux1_x86_64.whl (99 kB)\n",
            "Requirement already satisfied: triton==2.2.0 in /usr/local/lib/python3.10/dist-packages (from torch->torchviz) (2.2.0)\n",
            "Collecting nvidia-nvjitlink-cu12 (from nvidia-cusolver-cu12==11.4.5.107->torch->torchviz)\n",
            "  Using cached nvidia_nvjitlink_cu12-12.4.127-py3-none-manylinux2014_x86_64.whl (21.1 MB)\n",
            "Requirement already satisfied: MarkupSafe>=2.0 in /usr/local/lib/python3.10/dist-packages (from jinja2->torch->torchviz) (2.1.5)\n",
            "Requirement already satisfied: mpmath>=0.19 in /usr/local/lib/python3.10/dist-packages (from sympy->torch->torchviz) (1.3.0)\n",
            "Building wheels for collected packages: torchviz\n",
            "  Building wheel for torchviz (setup.py) ... \u001b[?25l\u001b[?25hdone\n",
            "  Created wheel for torchviz: filename=torchviz-0.0.2-py3-none-any.whl size=4132 sha256=2b30c87b709d1c935c995a70181b0604cc4029561435b6978426735b71221ad4\n",
            "  Stored in directory: /root/.cache/pip/wheels/4c/97/88/a02973217949e0db0c9f4346d154085f4725f99c4f15a87094\n",
            "Successfully built torchviz\n",
            "Installing collected packages: nvidia-nvtx-cu12, nvidia-nvjitlink-cu12, nvidia-nccl-cu12, nvidia-curand-cu12, nvidia-cufft-cu12, nvidia-cuda-runtime-cu12, nvidia-cuda-nvrtc-cu12, nvidia-cuda-cupti-cu12, nvidia-cublas-cu12, nvidia-cusparse-cu12, nvidia-cudnn-cu12, nvidia-cusolver-cu12, torchviz\n",
            "Successfully installed nvidia-cublas-cu12-12.1.3.1 nvidia-cuda-cupti-cu12-12.1.105 nvidia-cuda-nvrtc-cu12-12.1.105 nvidia-cuda-runtime-cu12-12.1.105 nvidia-cudnn-cu12-8.9.2.26 nvidia-cufft-cu12-11.0.2.54 nvidia-curand-cu12-10.3.2.106 nvidia-cusolver-cu12-11.4.5.107 nvidia-cusparse-cu12-12.1.0.106 nvidia-nccl-cu12-2.19.3 nvidia-nvjitlink-cu12-12.4.127 nvidia-nvtx-cu12-12.1.105 torchviz-0.0.2\n"
          ]
        }
      ]
    },
    {
      "cell_type": "code",
      "source": [
        "from torchviz import make_dot\n",
        "make_dot(colorized_image.mean(), params=dict(autoencoder.named_parameters()))"
      ],
      "metadata": {
        "colab": {
          "base_uri": "https://localhost:8080/",
          "height": 1000
        },
        "id": "u8Dq-joK8Qod",
        "outputId": "27aef3a3-c2c7-4816-c87b-c17496a4a7aa"
      },
      "execution_count": null,
      "outputs": [
        {
          "output_type": "execute_result",
          "data": {
            "image/svg+xml": "<?xml version=\"1.0\" encoding=\"UTF-8\" standalone=\"no\"?>\n<!DOCTYPE svg PUBLIC \"-//W3C//DTD SVG 1.1//EN\"\n \"http://www.w3.org/Graphics/SVG/1.1/DTD/svg11.dtd\">\n<!-- Generated by graphviz version 2.43.0 (0)\n -->\n<!-- Title: %3 Pages: 1 -->\n<svg width=\"701pt\" height=\"1112pt\"\n viewBox=\"0.00 0.00 701.21 1112.00\" xmlns=\"http://www.w3.org/2000/svg\" xmlns:xlink=\"http://www.w3.org/1999/xlink\">\n<g id=\"graph0\" class=\"graph\" transform=\"scale(1.53 1.53) rotate(0) translate(4 1696)\">\n<title>%3</title>\n<polygon fill=\"white\" stroke=\"transparent\" points=\"-4,4 -4,-1696 1068,-1696 1068,4 -4,4\"/>\n<!-- 134510104109648 -->\n<g id=\"node1\" class=\"node\">\n<title>134510104109648</title>\n<polygon fill=\"#caff70\" stroke=\"black\" points=\"917.5,-31 863.5,-31 863.5,0 917.5,0 917.5,-31\"/>\n<text text-anchor=\"middle\" x=\"890.5\" y=\"-7\" font-family=\"monospace\" font-size=\"10.00\"> ()</text>\n</g>\n<!-- 134510121368160 -->\n<g id=\"node2\" class=\"node\">\n<title>134510121368160</title>\n<polygon fill=\"lightgrey\" stroke=\"black\" points=\"938,-86 843,-86 843,-67 938,-67 938,-86\"/>\n<text text-anchor=\"middle\" x=\"890.5\" y=\"-74\" font-family=\"monospace\" font-size=\"10.00\">MeanBackward0</text>\n</g>\n<!-- 134510121368160&#45;&gt;134510104109648 -->\n<g id=\"edge51\" class=\"edge\">\n<title>134510121368160&#45;&gt;134510104109648</title>\n<path fill=\"none\" stroke=\"black\" d=\"M890.5,-66.79C890.5,-60.07 890.5,-50.4 890.5,-41.34\"/>\n<polygon fill=\"black\" stroke=\"black\" points=\"894,-41.19 890.5,-31.19 887,-41.19 894,-41.19\"/>\n</g>\n<!-- 134510121368736 -->\n<g id=\"node3\" class=\"node\">\n<title>134510121368736</title>\n<polygon fill=\"lightgrey\" stroke=\"black\" points=\"947,-141 834,-141 834,-122 947,-122 947,-141\"/>\n<text text-anchor=\"middle\" x=\"890.5\" y=\"-129\" font-family=\"monospace\" font-size=\"10.00\">SigmoidBackward0</text>\n</g>\n<!-- 134510121368736&#45;&gt;134510121368160 -->\n<g id=\"edge1\" class=\"edge\">\n<title>134510121368736&#45;&gt;134510121368160</title>\n<path fill=\"none\" stroke=\"black\" d=\"M890.5,-121.75C890.5,-114.8 890.5,-104.85 890.5,-96.13\"/>\n<polygon fill=\"black\" stroke=\"black\" points=\"894,-96.09 890.5,-86.09 887,-96.09 894,-96.09\"/>\n</g>\n<!-- 134510121368640 -->\n<g id=\"node4\" class=\"node\">\n<title>134510121368640</title>\n<polygon fill=\"lightgrey\" stroke=\"black\" points=\"947,-196 834,-196 834,-177 947,-177 947,-196\"/>\n<text text-anchor=\"middle\" x=\"890.5\" y=\"-184\" font-family=\"monospace\" font-size=\"10.00\">SqueezeBackward1</text>\n</g>\n<!-- 134510121368640&#45;&gt;134510121368736 -->\n<g id=\"edge2\" class=\"edge\">\n<title>134510121368640&#45;&gt;134510121368736</title>\n<path fill=\"none\" stroke=\"black\" d=\"M890.5,-176.75C890.5,-169.8 890.5,-159.85 890.5,-151.13\"/>\n<polygon fill=\"black\" stroke=\"black\" points=\"894,-151.09 890.5,-141.09 887,-151.09 894,-151.09\"/>\n</g>\n<!-- 134510121356112 -->\n<g id=\"node5\" class=\"node\">\n<title>134510121356112</title>\n<polygon fill=\"lightgrey\" stroke=\"black\" points=\"959,-251 822,-251 822,-232 959,-232 959,-251\"/>\n<text text-anchor=\"middle\" x=\"890.5\" y=\"-239\" font-family=\"monospace\" font-size=\"10.00\">ConvolutionBackward0</text>\n</g>\n<!-- 134510121356112&#45;&gt;134510121368640 -->\n<g id=\"edge3\" class=\"edge\">\n<title>134510121356112&#45;&gt;134510121368640</title>\n<path fill=\"none\" stroke=\"black\" d=\"M890.5,-231.75C890.5,-224.8 890.5,-214.85 890.5,-206.13\"/>\n<polygon fill=\"black\" stroke=\"black\" points=\"894,-206.09 890.5,-196.09 887,-206.09 894,-206.09\"/>\n</g>\n<!-- 134510121369024 -->\n<g id=\"node6\" class=\"node\">\n<title>134510121369024</title>\n<polygon fill=\"lightgrey\" stroke=\"black\" points=\"822,-306 697,-306 697,-287 822,-287 822,-306\"/>\n<text text-anchor=\"middle\" x=\"759.5\" y=\"-294\" font-family=\"monospace\" font-size=\"10.00\">UnsqueezeBackward0</text>\n</g>\n<!-- 134510121369024&#45;&gt;134510121356112 -->\n<g id=\"edge4\" class=\"edge\">\n<title>134510121369024&#45;&gt;134510121356112</title>\n<path fill=\"none\" stroke=\"black\" d=\"M780.55,-286.98C801.91,-278.34 835.2,-264.87 859.56,-255.02\"/>\n<polygon fill=\"black\" stroke=\"black\" points=\"861.11,-258.17 869.07,-251.17 858.49,-251.68 861.11,-258.17\"/>\n</g>\n<!-- 134510121361776 -->\n<g id=\"node7\" class=\"node\">\n<title>134510121361776</title>\n<polygon fill=\"lightgrey\" stroke=\"black\" points=\"807,-366.5 712,-366.5 712,-347.5 807,-347.5 807,-366.5\"/>\n<text text-anchor=\"middle\" x=\"759.5\" y=\"-354.5\" font-family=\"monospace\" font-size=\"10.00\">ReluBackward0</text>\n</g>\n<!-- 134510121361776&#45;&gt;134510121369024 -->\n<g id=\"edge5\" class=\"edge\">\n<title>134510121361776&#45;&gt;134510121369024</title>\n<path fill=\"none\" stroke=\"black\" d=\"M759.5,-347.37C759.5,-339.25 759.5,-326.81 759.5,-316.39\"/>\n<polygon fill=\"black\" stroke=\"black\" points=\"763,-316.17 759.5,-306.17 756,-316.17 763,-316.17\"/>\n</g>\n<!-- 134510121368448 -->\n<g id=\"node8\" class=\"node\">\n<title>134510121368448</title>\n<polygon fill=\"lightgrey\" stroke=\"black\" points=\"816,-427 703,-427 703,-408 816,-408 816,-427\"/>\n<text text-anchor=\"middle\" x=\"759.5\" y=\"-415\" font-family=\"monospace\" font-size=\"10.00\">SqueezeBackward1</text>\n</g>\n<!-- 134510121368448&#45;&gt;134510121361776 -->\n<g id=\"edge6\" class=\"edge\">\n<title>134510121368448&#45;&gt;134510121361776</title>\n<path fill=\"none\" stroke=\"black\" d=\"M759.5,-407.87C759.5,-399.75 759.5,-387.31 759.5,-376.89\"/>\n<polygon fill=\"black\" stroke=\"black\" points=\"763,-376.67 759.5,-366.67 756,-376.67 763,-376.67\"/>\n</g>\n<!-- 134510121365616 -->\n<g id=\"node9\" class=\"node\">\n<title>134510121365616</title>\n<polygon fill=\"lightgrey\" stroke=\"black\" points=\"828,-482 691,-482 691,-463 828,-463 828,-482\"/>\n<text text-anchor=\"middle\" x=\"759.5\" y=\"-470\" font-family=\"monospace\" font-size=\"10.00\">ConvolutionBackward0</text>\n</g>\n<!-- 134510121365616&#45;&gt;134510121368448 -->\n<g id=\"edge7\" class=\"edge\">\n<title>134510121365616&#45;&gt;134510121368448</title>\n<path fill=\"none\" stroke=\"black\" d=\"M759.5,-462.75C759.5,-455.8 759.5,-445.85 759.5,-437.13\"/>\n<polygon fill=\"black\" stroke=\"black\" points=\"763,-437.09 759.5,-427.09 756,-437.09 763,-437.09\"/>\n</g>\n<!-- 134510121359328 -->\n<g id=\"node10\" class=\"node\">\n<title>134510121359328</title>\n<polygon fill=\"lightgrey\" stroke=\"black\" points=\"691,-537 566,-537 566,-518 691,-518 691,-537\"/>\n<text text-anchor=\"middle\" x=\"628.5\" y=\"-525\" font-family=\"monospace\" font-size=\"10.00\">UnsqueezeBackward0</text>\n</g>\n<!-- 134510121359328&#45;&gt;134510121365616 -->\n<g id=\"edge8\" class=\"edge\">\n<title>134510121359328&#45;&gt;134510121365616</title>\n<path fill=\"none\" stroke=\"black\" d=\"M649.55,-517.98C670.91,-509.34 704.2,-495.87 728.56,-486.02\"/>\n<polygon fill=\"black\" stroke=\"black\" points=\"730.11,-489.17 738.07,-482.17 727.49,-482.68 730.11,-489.17\"/>\n</g>\n<!-- 134510121363840 -->\n<g id=\"node11\" class=\"node\">\n<title>134510121363840</title>\n<polygon fill=\"lightgrey\" stroke=\"black\" points=\"676,-597.5 581,-597.5 581,-578.5 676,-578.5 676,-597.5\"/>\n<text text-anchor=\"middle\" x=\"628.5\" y=\"-585.5\" font-family=\"monospace\" font-size=\"10.00\">ReluBackward0</text>\n</g>\n<!-- 134510121363840&#45;&gt;134510121359328 -->\n<g id=\"edge9\" class=\"edge\">\n<title>134510121363840&#45;&gt;134510121359328</title>\n<path fill=\"none\" stroke=\"black\" d=\"M628.5,-578.37C628.5,-570.25 628.5,-557.81 628.5,-547.39\"/>\n<polygon fill=\"black\" stroke=\"black\" points=\"632,-547.17 628.5,-537.17 625,-547.17 632,-547.17\"/>\n</g>\n<!-- 134510096687568 -->\n<g id=\"node12\" class=\"node\">\n<title>134510096687568</title>\n<polygon fill=\"lightgrey\" stroke=\"black\" points=\"685,-658 572,-658 572,-639 685,-639 685,-658\"/>\n<text text-anchor=\"middle\" x=\"628.5\" y=\"-646\" font-family=\"monospace\" font-size=\"10.00\">SqueezeBackward1</text>\n</g>\n<!-- 134510096687568&#45;&gt;134510121363840 -->\n<g id=\"edge10\" class=\"edge\">\n<title>134510096687568&#45;&gt;134510121363840</title>\n<path fill=\"none\" stroke=\"black\" d=\"M628.5,-638.87C628.5,-630.75 628.5,-618.31 628.5,-607.89\"/>\n<polygon fill=\"black\" stroke=\"black\" points=\"632,-607.67 628.5,-597.67 625,-607.67 632,-607.67\"/>\n</g>\n<!-- 134510096813264 -->\n<g id=\"node13\" class=\"node\">\n<title>134510096813264</title>\n<polygon fill=\"lightgrey\" stroke=\"black\" points=\"697,-713 560,-713 560,-694 697,-694 697,-713\"/>\n<text text-anchor=\"middle\" x=\"628.5\" y=\"-701\" font-family=\"monospace\" font-size=\"10.00\">ConvolutionBackward0</text>\n</g>\n<!-- 134510096813264&#45;&gt;134510096687568 -->\n<g id=\"edge11\" class=\"edge\">\n<title>134510096813264&#45;&gt;134510096687568</title>\n<path fill=\"none\" stroke=\"black\" d=\"M628.5,-693.75C628.5,-686.8 628.5,-676.85 628.5,-668.13\"/>\n<polygon fill=\"black\" stroke=\"black\" points=\"632,-668.09 628.5,-658.09 625,-668.09 632,-668.09\"/>\n</g>\n<!-- 134510096813072 -->\n<g id=\"node14\" class=\"node\">\n<title>134510096813072</title>\n<polygon fill=\"lightgrey\" stroke=\"black\" points=\"541,-768 416,-768 416,-749 541,-749 541,-768\"/>\n<text text-anchor=\"middle\" x=\"478.5\" y=\"-756\" font-family=\"monospace\" font-size=\"10.00\">UnsqueezeBackward0</text>\n</g>\n<!-- 134510096813072&#45;&gt;134510096813264 -->\n<g id=\"edge12\" class=\"edge\">\n<title>134510096813072&#45;&gt;134510096813264</title>\n<path fill=\"none\" stroke=\"black\" d=\"M502.6,-748.98C527.38,-740.23 566.2,-726.51 594.19,-716.62\"/>\n<polygon fill=\"black\" stroke=\"black\" points=\"595.7,-719.8 603.96,-713.17 593.37,-713.2 595.7,-719.8\"/>\n</g>\n<!-- 134510096814224 -->\n<g id=\"node15\" class=\"node\">\n<title>134510096814224</title>\n<polygon fill=\"lightgrey\" stroke=\"black\" points=\"554,-828.5 363,-828.5 363,-809.5 554,-809.5 554,-828.5\"/>\n<text text-anchor=\"middle\" x=\"458.5\" y=\"-816.5\" font-family=\"monospace\" font-size=\"10.00\">MaxPool2DWithIndicesBackward0</text>\n</g>\n<!-- 134510096814224&#45;&gt;134510096813072 -->\n<g id=\"edge13\" class=\"edge\">\n<title>134510096814224&#45;&gt;134510096813072</title>\n<path fill=\"none\" stroke=\"black\" d=\"M461.45,-809.37C464.29,-801.07 468.66,-788.28 472.27,-777.72\"/>\n<polygon fill=\"black\" stroke=\"black\" points=\"475.61,-778.76 475.54,-768.17 468.99,-776.5 475.61,-778.76\"/>\n</g>\n<!-- 134510096814272 -->\n<g id=\"node16\" class=\"node\">\n<title>134510096814272</title>\n<polygon fill=\"lightgrey\" stroke=\"black\" points=\"506,-889 411,-889 411,-870 506,-870 506,-889\"/>\n<text text-anchor=\"middle\" x=\"458.5\" y=\"-877\" font-family=\"monospace\" font-size=\"10.00\">ReluBackward0</text>\n</g>\n<!-- 134510096814272&#45;&gt;134510096814224 -->\n<g id=\"edge14\" class=\"edge\">\n<title>134510096814272&#45;&gt;134510096814224</title>\n<path fill=\"none\" stroke=\"black\" d=\"M458.5,-869.87C458.5,-861.75 458.5,-849.31 458.5,-838.89\"/>\n<polygon fill=\"black\" stroke=\"black\" points=\"462,-838.67 458.5,-828.67 455,-838.67 462,-838.67\"/>\n</g>\n<!-- 134510096814320 -->\n<g id=\"node17\" class=\"node\">\n<title>134510096814320</title>\n<polygon fill=\"lightgrey\" stroke=\"black\" points=\"515,-944 402,-944 402,-925 515,-925 515,-944\"/>\n<text text-anchor=\"middle\" x=\"458.5\" y=\"-932\" font-family=\"monospace\" font-size=\"10.00\">SqueezeBackward1</text>\n</g>\n<!-- 134510096814320&#45;&gt;134510096814272 -->\n<g id=\"edge15\" class=\"edge\">\n<title>134510096814320&#45;&gt;134510096814272</title>\n<path fill=\"none\" stroke=\"black\" d=\"M458.5,-924.75C458.5,-917.8 458.5,-907.85 458.5,-899.13\"/>\n<polygon fill=\"black\" stroke=\"black\" points=\"462,-899.09 458.5,-889.09 455,-899.09 462,-899.09\"/>\n</g>\n<!-- 134510096814416 -->\n<g id=\"node18\" class=\"node\">\n<title>134510096814416</title>\n<polygon fill=\"lightgrey\" stroke=\"black\" points=\"527,-999 390,-999 390,-980 527,-980 527,-999\"/>\n<text text-anchor=\"middle\" x=\"458.5\" y=\"-987\" font-family=\"monospace\" font-size=\"10.00\">ConvolutionBackward0</text>\n</g>\n<!-- 134510096814416&#45;&gt;134510096814320 -->\n<g id=\"edge16\" class=\"edge\">\n<title>134510096814416&#45;&gt;134510096814320</title>\n<path fill=\"none\" stroke=\"black\" d=\"M458.5,-979.75C458.5,-972.8 458.5,-962.85 458.5,-954.13\"/>\n<polygon fill=\"black\" stroke=\"black\" points=\"462,-954.09 458.5,-944.09 455,-954.09 462,-954.09\"/>\n</g>\n<!-- 134510096813312 -->\n<g id=\"node19\" class=\"node\">\n<title>134510096813312</title>\n<polygon fill=\"lightgrey\" stroke=\"black\" points=\"371,-1054 246,-1054 246,-1035 371,-1035 371,-1054\"/>\n<text text-anchor=\"middle\" x=\"308.5\" y=\"-1042\" font-family=\"monospace\" font-size=\"10.00\">UnsqueezeBackward0</text>\n</g>\n<!-- 134510096813312&#45;&gt;134510096814416 -->\n<g id=\"edge17\" class=\"edge\">\n<title>134510096813312&#45;&gt;134510096814416</title>\n<path fill=\"none\" stroke=\"black\" d=\"M332.6,-1034.98C357.38,-1026.23 396.2,-1012.51 424.19,-1002.62\"/>\n<polygon fill=\"black\" stroke=\"black\" points=\"425.7,-1005.8 433.96,-999.17 423.37,-999.2 425.7,-1005.8\"/>\n</g>\n<!-- 134510096813456 -->\n<g id=\"node20\" class=\"node\">\n<title>134510096813456</title>\n<polygon fill=\"lightgrey\" stroke=\"black\" points=\"384,-1114.5 193,-1114.5 193,-1095.5 384,-1095.5 384,-1114.5\"/>\n<text text-anchor=\"middle\" x=\"288.5\" y=\"-1102.5\" font-family=\"monospace\" font-size=\"10.00\">MaxPool2DWithIndicesBackward0</text>\n</g>\n<!-- 134510096813456&#45;&gt;134510096813312 -->\n<g id=\"edge18\" class=\"edge\">\n<title>134510096813456&#45;&gt;134510096813312</title>\n<path fill=\"none\" stroke=\"black\" d=\"M291.45,-1095.37C294.29,-1087.07 298.66,-1074.28 302.27,-1063.72\"/>\n<polygon fill=\"black\" stroke=\"black\" points=\"305.61,-1064.76 305.54,-1054.17 298.99,-1062.5 305.61,-1064.76\"/>\n</g>\n<!-- 134510096813792 -->\n<g id=\"node21\" class=\"node\">\n<title>134510096813792</title>\n<polygon fill=\"lightgrey\" stroke=\"black\" points=\"336,-1175 241,-1175 241,-1156 336,-1156 336,-1175\"/>\n<text text-anchor=\"middle\" x=\"288.5\" y=\"-1163\" font-family=\"monospace\" font-size=\"10.00\">ReluBackward0</text>\n</g>\n<!-- 134510096813792&#45;&gt;134510096813456 -->\n<g id=\"edge19\" class=\"edge\">\n<title>134510096813792&#45;&gt;134510096813456</title>\n<path fill=\"none\" stroke=\"black\" d=\"M288.5,-1155.87C288.5,-1147.75 288.5,-1135.31 288.5,-1124.89\"/>\n<polygon fill=\"black\" stroke=\"black\" points=\"292,-1124.67 288.5,-1114.67 285,-1124.67 292,-1124.67\"/>\n</g>\n<!-- 134510096813888 -->\n<g id=\"node22\" class=\"node\">\n<title>134510096813888</title>\n<polygon fill=\"lightgrey\" stroke=\"black\" points=\"345,-1230 232,-1230 232,-1211 345,-1211 345,-1230\"/>\n<text text-anchor=\"middle\" x=\"288.5\" y=\"-1218\" font-family=\"monospace\" font-size=\"10.00\">SqueezeBackward1</text>\n</g>\n<!-- 134510096813888&#45;&gt;134510096813792 -->\n<g id=\"edge20\" class=\"edge\">\n<title>134510096813888&#45;&gt;134510096813792</title>\n<path fill=\"none\" stroke=\"black\" d=\"M288.5,-1210.75C288.5,-1203.8 288.5,-1193.85 288.5,-1185.13\"/>\n<polygon fill=\"black\" stroke=\"black\" points=\"292,-1185.09 288.5,-1175.09 285,-1185.09 292,-1185.09\"/>\n</g>\n<!-- 134510096814128 -->\n<g id=\"node23\" class=\"node\">\n<title>134510096814128</title>\n<polygon fill=\"lightgrey\" stroke=\"black\" points=\"357,-1285 220,-1285 220,-1266 357,-1266 357,-1285\"/>\n<text text-anchor=\"middle\" x=\"288.5\" y=\"-1273\" font-family=\"monospace\" font-size=\"10.00\">ConvolutionBackward0</text>\n</g>\n<!-- 134510096814128&#45;&gt;134510096813888 -->\n<g id=\"edge21\" class=\"edge\">\n<title>134510096814128&#45;&gt;134510096813888</title>\n<path fill=\"none\" stroke=\"black\" d=\"M288.5,-1265.75C288.5,-1258.8 288.5,-1248.85 288.5,-1240.13\"/>\n<polygon fill=\"black\" stroke=\"black\" points=\"292,-1240.09 288.5,-1230.09 285,-1240.09 292,-1240.09\"/>\n</g>\n<!-- 134510096822672 -->\n<g id=\"node24\" class=\"node\">\n<title>134510096822672</title>\n<polygon fill=\"lightgrey\" stroke=\"black\" points=\"201,-1340 76,-1340 76,-1321 201,-1321 201,-1340\"/>\n<text text-anchor=\"middle\" x=\"138.5\" y=\"-1328\" font-family=\"monospace\" font-size=\"10.00\">UnsqueezeBackward0</text>\n</g>\n<!-- 134510096822672&#45;&gt;134510096814128 -->\n<g id=\"edge22\" class=\"edge\">\n<title>134510096822672&#45;&gt;134510096814128</title>\n<path fill=\"none\" stroke=\"black\" d=\"M162.6,-1320.98C187.38,-1312.23 226.2,-1298.51 254.19,-1288.62\"/>\n<polygon fill=\"black\" stroke=\"black\" points=\"255.7,-1291.8 263.96,-1285.17 253.37,-1285.2 255.7,-1291.8\"/>\n</g>\n<!-- 134510097202096 -->\n<g id=\"node25\" class=\"node\">\n<title>134510097202096</title>\n<polygon fill=\"lightgrey\" stroke=\"black\" points=\"214,-1400.5 23,-1400.5 23,-1381.5 214,-1381.5 214,-1400.5\"/>\n<text text-anchor=\"middle\" x=\"118.5\" y=\"-1388.5\" font-family=\"monospace\" font-size=\"10.00\">MaxPool2DWithIndicesBackward0</text>\n</g>\n<!-- 134510097202096&#45;&gt;134510096822672 -->\n<g id=\"edge23\" class=\"edge\">\n<title>134510097202096&#45;&gt;134510096822672</title>\n<path fill=\"none\" stroke=\"black\" d=\"M121.45,-1381.37C124.29,-1373.07 128.66,-1360.28 132.27,-1349.72\"/>\n<polygon fill=\"black\" stroke=\"black\" points=\"135.61,-1350.76 135.54,-1340.17 128.99,-1348.5 135.61,-1350.76\"/>\n</g>\n<!-- 134510097202192 -->\n<g id=\"node26\" class=\"node\">\n<title>134510097202192</title>\n<polygon fill=\"lightgrey\" stroke=\"black\" points=\"166,-1461 71,-1461 71,-1442 166,-1442 166,-1461\"/>\n<text text-anchor=\"middle\" x=\"118.5\" y=\"-1449\" font-family=\"monospace\" font-size=\"10.00\">ReluBackward0</text>\n</g>\n<!-- 134510097202192&#45;&gt;134510097202096 -->\n<g id=\"edge24\" class=\"edge\">\n<title>134510097202192&#45;&gt;134510097202096</title>\n<path fill=\"none\" stroke=\"black\" d=\"M118.5,-1441.87C118.5,-1433.75 118.5,-1421.31 118.5,-1410.89\"/>\n<polygon fill=\"black\" stroke=\"black\" points=\"122,-1410.67 118.5,-1400.67 115,-1410.67 122,-1410.67\"/>\n</g>\n<!-- 134510097199456 -->\n<g id=\"node27\" class=\"node\">\n<title>134510097199456</title>\n<polygon fill=\"lightgrey\" stroke=\"black\" points=\"175,-1516 62,-1516 62,-1497 175,-1497 175,-1516\"/>\n<text text-anchor=\"middle\" x=\"118.5\" y=\"-1504\" font-family=\"monospace\" font-size=\"10.00\">SqueezeBackward1</text>\n</g>\n<!-- 134510097199456&#45;&gt;134510097202192 -->\n<g id=\"edge25\" class=\"edge\">\n<title>134510097199456&#45;&gt;134510097202192</title>\n<path fill=\"none\" stroke=\"black\" d=\"M118.5,-1496.75C118.5,-1489.8 118.5,-1479.85 118.5,-1471.13\"/>\n<polygon fill=\"black\" stroke=\"black\" points=\"122,-1471.09 118.5,-1461.09 115,-1471.09 122,-1471.09\"/>\n</g>\n<!-- 134510097201616 -->\n<g id=\"node28\" class=\"node\">\n<title>134510097201616</title>\n<polygon fill=\"lightgrey\" stroke=\"black\" points=\"187,-1571 50,-1571 50,-1552 187,-1552 187,-1571\"/>\n<text text-anchor=\"middle\" x=\"118.5\" y=\"-1559\" font-family=\"monospace\" font-size=\"10.00\">ConvolutionBackward0</text>\n</g>\n<!-- 134510097201616&#45;&gt;134510097199456 -->\n<g id=\"edge26\" class=\"edge\">\n<title>134510097201616&#45;&gt;134510097199456</title>\n<path fill=\"none\" stroke=\"black\" d=\"M118.5,-1551.75C118.5,-1544.8 118.5,-1534.85 118.5,-1526.13\"/>\n<polygon fill=\"black\" stroke=\"black\" points=\"122,-1526.09 118.5,-1516.09 115,-1526.09 122,-1526.09\"/>\n</g>\n<!-- 134510097201904 -->\n<g id=\"node29\" class=\"node\">\n<title>134510097201904</title>\n<polygon fill=\"lightgrey\" stroke=\"black\" points=\"110,-1626 9,-1626 9,-1607 110,-1607 110,-1626\"/>\n<text text-anchor=\"middle\" x=\"59.5\" y=\"-1614\" font-family=\"monospace\" font-size=\"10.00\">AccumulateGrad</text>\n</g>\n<!-- 134510097201904&#45;&gt;134510097201616 -->\n<g id=\"edge27\" class=\"edge\">\n<title>134510097201904&#45;&gt;134510097201616</title>\n<path fill=\"none\" stroke=\"black\" d=\"M68.98,-1606.98C77.7,-1599.15 90.84,-1587.34 101.4,-1577.86\"/>\n<polygon fill=\"black\" stroke=\"black\" points=\"103.75,-1580.46 108.85,-1571.17 99.07,-1575.25 103.75,-1580.46\"/>\n</g>\n<!-- 134510104131632 -->\n<g id=\"node30\" class=\"node\">\n<title>134510104131632</title>\n<polygon fill=\"lightblue\" stroke=\"black\" points=\"113,-1692 0,-1692 0,-1662 113,-1662 113,-1692\"/>\n<text text-anchor=\"middle\" x=\"56.5\" y=\"-1680\" font-family=\"monospace\" font-size=\"10.00\">encoder.0.weight</text>\n<text text-anchor=\"middle\" x=\"56.5\" y=\"-1669\" font-family=\"monospace\" font-size=\"10.00\"> (16, 3, 3, 3)</text>\n</g>\n<!-- 134510104131632&#45;&gt;134510097201904 -->\n<g id=\"edge28\" class=\"edge\">\n<title>134510104131632&#45;&gt;134510097201904</title>\n<path fill=\"none\" stroke=\"black\" d=\"M57.23,-1661.84C57.62,-1654.21 58.1,-1644.7 58.53,-1636.45\"/>\n<polygon fill=\"black\" stroke=\"black\" points=\"62.03,-1636.43 59.05,-1626.27 55.04,-1636.07 62.03,-1636.43\"/>\n</g>\n<!-- 134510097199504 -->\n<g id=\"node31\" class=\"node\">\n<title>134510097199504</title>\n<polygon fill=\"lightgrey\" stroke=\"black\" points=\"230,-1626 129,-1626 129,-1607 230,-1607 230,-1626\"/>\n<text text-anchor=\"middle\" x=\"179.5\" y=\"-1614\" font-family=\"monospace\" font-size=\"10.00\">AccumulateGrad</text>\n</g>\n<!-- 134510097199504&#45;&gt;134510097201616 -->\n<g id=\"edge29\" class=\"edge\">\n<title>134510097199504&#45;&gt;134510097201616</title>\n<path fill=\"none\" stroke=\"black\" d=\"M169.7,-1606.98C160.68,-1599.15 147.09,-1587.34 136.18,-1577.86\"/>\n<polygon fill=\"black\" stroke=\"black\" points=\"138.32,-1575.09 128.48,-1571.17 133.73,-1580.37 138.32,-1575.09\"/>\n</g>\n<!-- 134510104131712 -->\n<g id=\"node32\" class=\"node\">\n<title>134510104131712</title>\n<polygon fill=\"lightblue\" stroke=\"black\" points=\"232,-1692 131,-1692 131,-1662 232,-1662 232,-1692\"/>\n<text text-anchor=\"middle\" x=\"181.5\" y=\"-1680\" font-family=\"monospace\" font-size=\"10.00\">encoder.0.bias</text>\n<text text-anchor=\"middle\" x=\"181.5\" y=\"-1669\" font-family=\"monospace\" font-size=\"10.00\"> (16)</text>\n</g>\n<!-- 134510104131712&#45;&gt;134510097199504 -->\n<g id=\"edge30\" class=\"edge\">\n<title>134510104131712&#45;&gt;134510097199504</title>\n<path fill=\"none\" stroke=\"black\" d=\"M181.02,-1661.84C180.76,-1654.21 180.43,-1644.7 180.15,-1636.45\"/>\n<polygon fill=\"black\" stroke=\"black\" points=\"183.64,-1636.14 179.8,-1626.27 176.64,-1636.38 183.64,-1636.14\"/>\n</g>\n<!-- 134510096813648 -->\n<g id=\"node33\" class=\"node\">\n<title>134510096813648</title>\n<polygon fill=\"lightgrey\" stroke=\"black\" points=\"339,-1340 238,-1340 238,-1321 339,-1321 339,-1340\"/>\n<text text-anchor=\"middle\" x=\"288.5\" y=\"-1328\" font-family=\"monospace\" font-size=\"10.00\">AccumulateGrad</text>\n</g>\n<!-- 134510096813648&#45;&gt;134510096814128 -->\n<g id=\"edge31\" class=\"edge\">\n<title>134510096813648&#45;&gt;134510096814128</title>\n<path fill=\"none\" stroke=\"black\" d=\"M288.5,-1320.75C288.5,-1313.8 288.5,-1303.85 288.5,-1295.13\"/>\n<polygon fill=\"black\" stroke=\"black\" points=\"292,-1295.09 288.5,-1285.09 285,-1295.09 292,-1295.09\"/>\n</g>\n<!-- 134510104131872 -->\n<g id=\"node34\" class=\"node\">\n<title>134510104131872</title>\n<polygon fill=\"lightblue\" stroke=\"black\" points=\"345,-1406 232,-1406 232,-1376 345,-1376 345,-1406\"/>\n<text text-anchor=\"middle\" x=\"288.5\" y=\"-1394\" font-family=\"monospace\" font-size=\"10.00\">encoder.3.weight</text>\n<text text-anchor=\"middle\" x=\"288.5\" y=\"-1383\" font-family=\"monospace\" font-size=\"10.00\"> (32, 16, 3, 3)</text>\n</g>\n<!-- 134510104131872&#45;&gt;134510096813648 -->\n<g id=\"edge32\" class=\"edge\">\n<title>134510104131872&#45;&gt;134510096813648</title>\n<path fill=\"none\" stroke=\"black\" d=\"M288.5,-1375.84C288.5,-1368.21 288.5,-1358.7 288.5,-1350.45\"/>\n<polygon fill=\"black\" stroke=\"black\" points=\"292,-1350.27 288.5,-1340.27 285,-1350.27 292,-1350.27\"/>\n</g>\n<!-- 134510097201376 -->\n<g id=\"node35\" class=\"node\">\n<title>134510097201376</title>\n<polygon fill=\"lightgrey\" stroke=\"black\" points=\"461,-1340 360,-1340 360,-1321 461,-1321 461,-1340\"/>\n<text text-anchor=\"middle\" x=\"410.5\" y=\"-1328\" font-family=\"monospace\" font-size=\"10.00\">AccumulateGrad</text>\n</g>\n<!-- 134510097201376&#45;&gt;134510096814128 -->\n<g id=\"edge33\" class=\"edge\">\n<title>134510097201376&#45;&gt;134510096814128</title>\n<path fill=\"none\" stroke=\"black\" d=\"M390.9,-1320.98C371.18,-1312.42 340.55,-1299.11 317.92,-1289.28\"/>\n<polygon fill=\"black\" stroke=\"black\" points=\"319.02,-1285.94 308.46,-1285.17 316.24,-1292.37 319.02,-1285.94\"/>\n</g>\n<!-- 134510104131552 -->\n<g id=\"node36\" class=\"node\">\n<title>134510104131552</title>\n<polygon fill=\"lightblue\" stroke=\"black\" points=\"464,-1406 363,-1406 363,-1376 464,-1376 464,-1406\"/>\n<text text-anchor=\"middle\" x=\"413.5\" y=\"-1394\" font-family=\"monospace\" font-size=\"10.00\">encoder.3.bias</text>\n<text text-anchor=\"middle\" x=\"413.5\" y=\"-1383\" font-family=\"monospace\" font-size=\"10.00\"> (32)</text>\n</g>\n<!-- 134510104131552&#45;&gt;134510097201376 -->\n<g id=\"edge34\" class=\"edge\">\n<title>134510104131552&#45;&gt;134510097201376</title>\n<path fill=\"none\" stroke=\"black\" d=\"M412.77,-1375.84C412.38,-1368.21 411.9,-1358.7 411.47,-1350.45\"/>\n<polygon fill=\"black\" stroke=\"black\" points=\"414.96,-1350.07 410.95,-1340.27 407.97,-1350.43 414.96,-1350.07\"/>\n</g>\n<!-- 134510096814464 -->\n<g id=\"node37\" class=\"node\">\n<title>134510096814464</title>\n<polygon fill=\"lightgrey\" stroke=\"black\" points=\"509,-1054 408,-1054 408,-1035 509,-1035 509,-1054\"/>\n<text text-anchor=\"middle\" x=\"458.5\" y=\"-1042\" font-family=\"monospace\" font-size=\"10.00\">AccumulateGrad</text>\n</g>\n<!-- 134510096814464&#45;&gt;134510096814416 -->\n<g id=\"edge35\" class=\"edge\">\n<title>134510096814464&#45;&gt;134510096814416</title>\n<path fill=\"none\" stroke=\"black\" d=\"M458.5,-1034.75C458.5,-1027.8 458.5,-1017.85 458.5,-1009.13\"/>\n<polygon fill=\"black\" stroke=\"black\" points=\"462,-1009.09 458.5,-999.09 455,-1009.09 462,-1009.09\"/>\n</g>\n<!-- 134510104132032 -->\n<g id=\"node38\" class=\"node\">\n<title>134510104132032</title>\n<polygon fill=\"lightblue\" stroke=\"black\" points=\"515,-1120 402,-1120 402,-1090 515,-1090 515,-1120\"/>\n<text text-anchor=\"middle\" x=\"458.5\" y=\"-1108\" font-family=\"monospace\" font-size=\"10.00\">encoder.6.weight</text>\n<text text-anchor=\"middle\" x=\"458.5\" y=\"-1097\" font-family=\"monospace\" font-size=\"10.00\"> (64, 32, 3, 3)</text>\n</g>\n<!-- 134510104132032&#45;&gt;134510096814464 -->\n<g id=\"edge36\" class=\"edge\">\n<title>134510104132032&#45;&gt;134510096814464</title>\n<path fill=\"none\" stroke=\"black\" d=\"M458.5,-1089.84C458.5,-1082.21 458.5,-1072.7 458.5,-1064.45\"/>\n<polygon fill=\"black\" stroke=\"black\" points=\"462,-1064.27 458.5,-1054.27 455,-1064.27 462,-1064.27\"/>\n</g>\n<!-- 134510096813696 -->\n<g id=\"node39\" class=\"node\">\n<title>134510096813696</title>\n<polygon fill=\"lightgrey\" stroke=\"black\" points=\"631,-1054 530,-1054 530,-1035 631,-1035 631,-1054\"/>\n<text text-anchor=\"middle\" x=\"580.5\" y=\"-1042\" font-family=\"monospace\" font-size=\"10.00\">AccumulateGrad</text>\n</g>\n<!-- 134510096813696&#45;&gt;134510096814416 -->\n<g id=\"edge37\" class=\"edge\">\n<title>134510096813696&#45;&gt;134510096814416</title>\n<path fill=\"none\" stroke=\"black\" d=\"M560.9,-1034.98C541.18,-1026.42 510.55,-1013.11 487.92,-1003.28\"/>\n<polygon fill=\"black\" stroke=\"black\" points=\"489.02,-999.94 478.46,-999.17 486.24,-1006.37 489.02,-999.94\"/>\n</g>\n<!-- 134510104132112 -->\n<g id=\"node40\" class=\"node\">\n<title>134510104132112</title>\n<polygon fill=\"lightblue\" stroke=\"black\" points=\"634,-1120 533,-1120 533,-1090 634,-1090 634,-1120\"/>\n<text text-anchor=\"middle\" x=\"583.5\" y=\"-1108\" font-family=\"monospace\" font-size=\"10.00\">encoder.6.bias</text>\n<text text-anchor=\"middle\" x=\"583.5\" y=\"-1097\" font-family=\"monospace\" font-size=\"10.00\"> (64)</text>\n</g>\n<!-- 134510104132112&#45;&gt;134510096813696 -->\n<g id=\"edge38\" class=\"edge\">\n<title>134510104132112&#45;&gt;134510096813696</title>\n<path fill=\"none\" stroke=\"black\" d=\"M582.77,-1089.84C582.38,-1082.21 581.9,-1072.7 581.47,-1064.45\"/>\n<polygon fill=\"black\" stroke=\"black\" points=\"584.96,-1064.07 580.95,-1054.27 577.97,-1064.43 584.96,-1064.07\"/>\n</g>\n<!-- 134510096813024 -->\n<g id=\"node41\" class=\"node\">\n<title>134510096813024</title>\n<polygon fill=\"lightgrey\" stroke=\"black\" points=\"679,-768 578,-768 578,-749 679,-749 679,-768\"/>\n<text text-anchor=\"middle\" x=\"628.5\" y=\"-756\" font-family=\"monospace\" font-size=\"10.00\">AccumulateGrad</text>\n</g>\n<!-- 134510096813024&#45;&gt;134510096813264 -->\n<g id=\"edge39\" class=\"edge\">\n<title>134510096813024&#45;&gt;134510096813264</title>\n<path fill=\"none\" stroke=\"black\" d=\"M628.5,-748.75C628.5,-741.8 628.5,-731.85 628.5,-723.13\"/>\n<polygon fill=\"black\" stroke=\"black\" points=\"632,-723.09 628.5,-713.09 625,-723.09 632,-723.09\"/>\n</g>\n<!-- 134516038668896 -->\n<g id=\"node42\" class=\"node\">\n<title>134516038668896</title>\n<polygon fill=\"lightblue\" stroke=\"black\" points=\"685,-834 572,-834 572,-804 685,-804 685,-834\"/>\n<text text-anchor=\"middle\" x=\"628.5\" y=\"-822\" font-family=\"monospace\" font-size=\"10.00\">decoder.0.weight</text>\n<text text-anchor=\"middle\" x=\"628.5\" y=\"-811\" font-family=\"monospace\" font-size=\"10.00\"> (64, 32, 3, 3)</text>\n</g>\n<!-- 134516038668896&#45;&gt;134510096813024 -->\n<g id=\"edge40\" class=\"edge\">\n<title>134516038668896&#45;&gt;134510096813024</title>\n<path fill=\"none\" stroke=\"black\" d=\"M628.5,-803.84C628.5,-796.21 628.5,-786.7 628.5,-778.45\"/>\n<polygon fill=\"black\" stroke=\"black\" points=\"632,-778.27 628.5,-768.27 625,-778.27 632,-778.27\"/>\n</g>\n<!-- 134510096813552 -->\n<g id=\"node43\" class=\"node\">\n<title>134510096813552</title>\n<polygon fill=\"lightgrey\" stroke=\"black\" points=\"801,-768 700,-768 700,-749 801,-749 801,-768\"/>\n<text text-anchor=\"middle\" x=\"750.5\" y=\"-756\" font-family=\"monospace\" font-size=\"10.00\">AccumulateGrad</text>\n</g>\n<!-- 134510096813552&#45;&gt;134510096813264 -->\n<g id=\"edge41\" class=\"edge\">\n<title>134510096813552&#45;&gt;134510096813264</title>\n<path fill=\"none\" stroke=\"black\" d=\"M730.9,-748.98C711.18,-740.42 680.55,-727.11 657.92,-717.28\"/>\n<polygon fill=\"black\" stroke=\"black\" points=\"659.02,-713.94 648.46,-713.17 656.24,-720.37 659.02,-713.94\"/>\n</g>\n<!-- 134510136523120 -->\n<g id=\"node44\" class=\"node\">\n<title>134510136523120</title>\n<polygon fill=\"lightblue\" stroke=\"black\" points=\"804,-834 703,-834 703,-804 804,-804 804,-834\"/>\n<text text-anchor=\"middle\" x=\"753.5\" y=\"-822\" font-family=\"monospace\" font-size=\"10.00\">decoder.0.bias</text>\n<text text-anchor=\"middle\" x=\"753.5\" y=\"-811\" font-family=\"monospace\" font-size=\"10.00\"> (32)</text>\n</g>\n<!-- 134510136523120&#45;&gt;134510096813552 -->\n<g id=\"edge42\" class=\"edge\">\n<title>134510136523120&#45;&gt;134510096813552</title>\n<path fill=\"none\" stroke=\"black\" d=\"M752.77,-803.84C752.38,-796.21 751.9,-786.7 751.47,-778.45\"/>\n<polygon fill=\"black\" stroke=\"black\" points=\"754.96,-778.07 750.95,-768.27 747.97,-778.43 754.96,-778.07\"/>\n</g>\n<!-- 134510121367728 -->\n<g id=\"node45\" class=\"node\">\n<title>134510121367728</title>\n<polygon fill=\"lightgrey\" stroke=\"black\" points=\"810,-537 709,-537 709,-518 810,-518 810,-537\"/>\n<text text-anchor=\"middle\" x=\"759.5\" y=\"-525\" font-family=\"monospace\" font-size=\"10.00\">AccumulateGrad</text>\n</g>\n<!-- 134510121367728&#45;&gt;134510121365616 -->\n<g id=\"edge43\" class=\"edge\">\n<title>134510121367728&#45;&gt;134510121365616</title>\n<path fill=\"none\" stroke=\"black\" d=\"M759.5,-517.75C759.5,-510.8 759.5,-500.85 759.5,-492.13\"/>\n<polygon fill=\"black\" stroke=\"black\" points=\"763,-492.09 759.5,-482.09 756,-492.09 763,-492.09\"/>\n</g>\n<!-- 134510136607904 -->\n<g id=\"node46\" class=\"node\">\n<title>134510136607904</title>\n<polygon fill=\"lightblue\" stroke=\"black\" points=\"814,-603 701,-603 701,-573 814,-573 814,-603\"/>\n<text text-anchor=\"middle\" x=\"757.5\" y=\"-591\" font-family=\"monospace\" font-size=\"10.00\">decoder.2.weight</text>\n<text text-anchor=\"middle\" x=\"757.5\" y=\"-580\" font-family=\"monospace\" font-size=\"10.00\"> (32, 16, 3, 3)</text>\n</g>\n<!-- 134510136607904&#45;&gt;134510121367728 -->\n<g id=\"edge44\" class=\"edge\">\n<title>134510136607904&#45;&gt;134510121367728</title>\n<path fill=\"none\" stroke=\"black\" d=\"M757.98,-572.84C758.24,-565.21 758.57,-555.7 758.85,-547.45\"/>\n<polygon fill=\"black\" stroke=\"black\" points=\"762.36,-547.38 759.2,-537.27 755.36,-547.14 762.36,-547.38\"/>\n</g>\n<!-- 134510121357024 -->\n<g id=\"node47\" class=\"node\">\n<title>134510121357024</title>\n<polygon fill=\"lightgrey\" stroke=\"black\" points=\"930,-537 829,-537 829,-518 930,-518 930,-537\"/>\n<text text-anchor=\"middle\" x=\"879.5\" y=\"-525\" font-family=\"monospace\" font-size=\"10.00\">AccumulateGrad</text>\n</g>\n<!-- 134510121357024&#45;&gt;134510121365616 -->\n<g id=\"edge45\" class=\"edge\">\n<title>134510121357024&#45;&gt;134510121365616</title>\n<path fill=\"none\" stroke=\"black\" d=\"M860.22,-517.98C840.83,-509.42 810.69,-496.11 788.43,-486.28\"/>\n<polygon fill=\"black\" stroke=\"black\" points=\"789.69,-483.01 779.13,-482.17 786.86,-489.41 789.69,-483.01\"/>\n</g>\n<!-- 134510104131952 -->\n<g id=\"node48\" class=\"node\">\n<title>134510104131952</title>\n<polygon fill=\"lightblue\" stroke=\"black\" points=\"933,-603 832,-603 832,-573 933,-573 933,-603\"/>\n<text text-anchor=\"middle\" x=\"882.5\" y=\"-591\" font-family=\"monospace\" font-size=\"10.00\">decoder.2.bias</text>\n<text text-anchor=\"middle\" x=\"882.5\" y=\"-580\" font-family=\"monospace\" font-size=\"10.00\"> (16)</text>\n</g>\n<!-- 134510104131952&#45;&gt;134510121357024 -->\n<g id=\"edge46\" class=\"edge\">\n<title>134510104131952&#45;&gt;134510121357024</title>\n<path fill=\"none\" stroke=\"black\" d=\"M881.77,-572.84C881.38,-565.21 880.9,-555.7 880.47,-547.45\"/>\n<polygon fill=\"black\" stroke=\"black\" points=\"883.96,-547.07 879.95,-537.27 876.97,-547.43 883.96,-547.07\"/>\n</g>\n<!-- 134510121368688 -->\n<g id=\"node49\" class=\"node\">\n<title>134510121368688</title>\n<polygon fill=\"lightgrey\" stroke=\"black\" points=\"941,-306 840,-306 840,-287 941,-287 941,-306\"/>\n<text text-anchor=\"middle\" x=\"890.5\" y=\"-294\" font-family=\"monospace\" font-size=\"10.00\">AccumulateGrad</text>\n</g>\n<!-- 134510121368688&#45;&gt;134510121356112 -->\n<g id=\"edge47\" class=\"edge\">\n<title>134510121368688&#45;&gt;134510121356112</title>\n<path fill=\"none\" stroke=\"black\" d=\"M890.5,-286.75C890.5,-279.8 890.5,-269.85 890.5,-261.13\"/>\n<polygon fill=\"black\" stroke=\"black\" points=\"894,-261.09 890.5,-251.09 887,-261.09 894,-261.09\"/>\n</g>\n<!-- 134510104132272 -->\n<g id=\"node50\" class=\"node\">\n<title>134510104132272</title>\n<polygon fill=\"lightblue\" stroke=\"black\" points=\"945,-372 832,-372 832,-342 945,-342 945,-372\"/>\n<text text-anchor=\"middle\" x=\"888.5\" y=\"-360\" font-family=\"monospace\" font-size=\"10.00\">decoder.4.weight</text>\n<text text-anchor=\"middle\" x=\"888.5\" y=\"-349\" font-family=\"monospace\" font-size=\"10.00\"> (16, 3, 3, 3)</text>\n</g>\n<!-- 134510104132272&#45;&gt;134510121368688 -->\n<g id=\"edge48\" class=\"edge\">\n<title>134510104132272&#45;&gt;134510121368688</title>\n<path fill=\"none\" stroke=\"black\" d=\"M888.98,-341.84C889.24,-334.21 889.57,-324.7 889.85,-316.45\"/>\n<polygon fill=\"black\" stroke=\"black\" points=\"893.36,-316.38 890.2,-306.27 886.36,-316.14 893.36,-316.38\"/>\n</g>\n<!-- 134510121368928 -->\n<g id=\"node51\" class=\"node\">\n<title>134510121368928</title>\n<polygon fill=\"lightgrey\" stroke=\"black\" points=\"1061,-306 960,-306 960,-287 1061,-287 1061,-306\"/>\n<text text-anchor=\"middle\" x=\"1010.5\" y=\"-294\" font-family=\"monospace\" font-size=\"10.00\">AccumulateGrad</text>\n</g>\n<!-- 134510121368928&#45;&gt;134510121356112 -->\n<g id=\"edge49\" class=\"edge\">\n<title>134510121368928&#45;&gt;134510121356112</title>\n<path fill=\"none\" stroke=\"black\" d=\"M991.22,-286.98C971.83,-278.42 941.69,-265.11 919.43,-255.28\"/>\n<polygon fill=\"black\" stroke=\"black\" points=\"920.69,-252.01 910.13,-251.17 917.86,-258.41 920.69,-252.01\"/>\n</g>\n<!-- 134510104132352 -->\n<g id=\"node52\" class=\"node\">\n<title>134510104132352</title>\n<polygon fill=\"lightblue\" stroke=\"black\" points=\"1064,-372 963,-372 963,-342 1064,-342 1064,-372\"/>\n<text text-anchor=\"middle\" x=\"1013.5\" y=\"-360\" font-family=\"monospace\" font-size=\"10.00\">decoder.4.bias</text>\n<text text-anchor=\"middle\" x=\"1013.5\" y=\"-349\" font-family=\"monospace\" font-size=\"10.00\"> (3)</text>\n</g>\n<!-- 134510104132352&#45;&gt;134510121368928 -->\n<g id=\"edge50\" class=\"edge\">\n<title>134510104132352&#45;&gt;134510121368928</title>\n<path fill=\"none\" stroke=\"black\" d=\"M1012.77,-341.84C1012.38,-334.21 1011.9,-324.7 1011.47,-316.45\"/>\n<polygon fill=\"black\" stroke=\"black\" points=\"1014.96,-316.07 1010.95,-306.27 1007.97,-316.43 1014.96,-316.07\"/>\n</g>\n</g>\n</svg>\n",
            "text/plain": [
              "<graphviz.graphs.Digraph at 0x7a561400ba30>"
            ]
          },
          "metadata": {},
          "execution_count": 13
        }
      ]
    },
    {
      "cell_type": "code",
      "source": [
        "torch.save(autoencoder.decoder,'/content/CPSC-440-Project/model0/decoder_weights')"
      ],
      "metadata": {
        "id": "QYBuhq2rtiLN"
      },
      "execution_count": 12,
      "outputs": []
    },
    {
      "cell_type": "code",
      "source": [
        "torch.save(autoencoder.encoder,'/content/CPSC-440-Project/model0/encoder_weights')"
      ],
      "metadata": {
        "id": "nf7tNPL4SsG4"
      },
      "execution_count": 13,
      "outputs": []
    },
    {
      "cell_type": "markdown",
      "source": [
        "# 4. Push changes\n",
        "\n",
        "Look for any changes in the project directory, excluding this notebook, and push them.\n"
      ],
      "metadata": {
        "id": "UuwWuVpI7JOM"
      }
    },
    {
      "cell_type": "code",
      "source": [
        "!cd CPSC-440-Project\n",
        "!pwd\n",
        "!ls\n",
        "!cd sample_data\n",
        "!pwd"
      ],
      "metadata": {
        "id": "_UjVmKy91euT",
        "outputId": "2e68aa88-8655-4e78-cb62-b14dde59b363",
        "colab": {
          "base_uri": "https://localhost:8080/"
        }
      },
      "execution_count": 29,
      "outputs": [
        {
          "output_type": "stream",
          "name": "stdout",
          "text": [
            "/content\n",
            "CPSC-440-Project  sample_data\n",
            "/content\n"
          ]
        }
      ]
    },
    {
      "cell_type": "code",
      "source": [
        "!git status"
      ],
      "metadata": {
        "id": "JIgEXMYt2SLG",
        "outputId": "0b32a43d-e4ee-48d0-9902-71cf6447855e",
        "colab": {
          "base_uri": "https://localhost:8080/"
        }
      },
      "execution_count": 30,
      "outputs": [
        {
          "output_type": "stream",
          "name": "stdout",
          "text": [
            "fatal: not a git repository (or any of the parent directories): .git\n"
          ]
        }
      ]
    },
    {
      "cell_type": "code",
      "source": [
        "!git commit -m \"Message here\""
      ],
      "metadata": {
        "id": "M2IsKU8o3CrX"
      },
      "execution_count": null,
      "outputs": []
    },
    {
      "cell_type": "code",
      "source": [
        "!git push"
      ],
      "metadata": {
        "id": "ns6SM1go3IZl"
      },
      "execution_count": null,
      "outputs": []
    },
    {
      "cell_type": "code",
      "source": [],
      "metadata": {
        "id": "ZRavBxLT3LEN"
      },
      "execution_count": null,
      "outputs": []
    },
    {
      "cell_type": "markdown",
      "source": [
        "# 5. Save notebook\n",
        "\n",
        "Commiting this notebook requires a special maneuver:\n",
        "\n",
        "> File > Save a copy in github > enter original `path` + new commit msg\n",
        "\n",
        "That's it!"
      ],
      "metadata": {
        "id": "l6r4vK-a9Tr4"
      }
    },
    {
      "cell_type": "code",
      "source": [],
      "metadata": {
        "id": "r7QEjIK898o5"
      },
      "execution_count": null,
      "outputs": []
    }
  ]
}