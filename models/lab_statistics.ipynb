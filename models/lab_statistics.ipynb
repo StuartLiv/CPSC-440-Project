{
  "nbformat": 4,
  "nbformat_minor": 0,
  "metadata": {
    "colab": {
      "provenance": [],
      "gpuType": "L4",
      "include_colab_link": true
    },
    "kernelspec": {
      "name": "python3",
      "display_name": "Python 3"
    },
    "language_info": {
      "name": "python"
    },
    "accelerator": "GPU"
  },
  "cells": [
    {
      "cell_type": "markdown",
      "metadata": {
        "id": "view-in-github",
        "colab_type": "text"
      },
      "source": [
        "<a href=\"https://colab.research.google.com/github/StuartLiv/CPSC-440-Project/blob/main/models/lab_statistics.ipynb\" target=\"_parent\"><img src=\"https://colab.research.google.com/assets/colab-badge.svg\" alt=\"Open In Colab\"/></a>"
      ]
    },
    {
      "cell_type": "code",
      "source": [
        "import os\n",
        "from tqdm import tqdm\n",
        "import re\n",
        "from keras.preprocessing.image import img_to_array # TODO don't use keras\n",
        "from keras.utils import load_img\n",
        "import matplotlib.pyplot as plt\n",
        "import numpy as np\n",
        "\n",
        "import torch\n",
        "import torch.nn as nn\n",
        "import torch.nn.functional as f\n",
        "import torch.optim as optim\n",
        "import random\n",
        "\n",
        "from google.colab import userdata\n",
        "\n",
        "!pip install pytorch-msssim -q\n",
        "from pytorch_msssim import ms_ssim\n",
        "\n",
        "device = torch.device(\"cuda\") if torch.cuda.is_available() else torch.device(\"cpu\")\n",
        "print(\"Device\", device)"
      ],
      "metadata": {
        "id": "N-_96eljZSnh",
        "colab": {
          "base_uri": "https://localhost:8080/"
        },
        "outputId": "41cfbb3d-16b5-4799-f44f-1c21dd3c49c4"
      },
      "execution_count": 1,
      "outputs": [
        {
          "output_type": "stream",
          "name": "stdout",
          "text": [
            "Device cuda\n"
          ]
        }
      ]
    },
    {
      "cell_type": "code",
      "source": [
        "\n",
        "!pip install -q kornia\n",
        "import kornia\n",
        "import skimage\n"
      ],
      "metadata": {
        "id": "RuAD2u3RWbuG"
      },
      "execution_count": 2,
      "outputs": []
    },
    {
      "cell_type": "markdown",
      "source": [
        "# 1. Set up project in runtime\n",
        "Create colab secrets for the following credentials for the repo to get runtime files and clone repo"
      ],
      "metadata": {
        "id": "p2hPm3ge3aAx"
      }
    },
    {
      "cell_type": "code",
      "source": [
        "!git config --global user.email {userdata.get('email')}\n",
        "!git config --global user.name {userdata.get('name')}\n",
        "!git clone https://{userdata.get('token')}@github.com/StuartLiv/CPSC-440-Project\n",
        "%pwd"
      ],
      "metadata": {
        "id": "uokAe0clHNCX",
        "outputId": "c0abf2fa-ef09-4aaf-a686-1fefd934db73",
        "colab": {
          "base_uri": "https://localhost:8080/",
          "height": 53
        }
      },
      "execution_count": 3,
      "outputs": [
        {
          "output_type": "stream",
          "name": "stdout",
          "text": [
            "fatal: destination path 'CPSC-440-Project' already exists and is not an empty directory.\n"
          ]
        },
        {
          "output_type": "execute_result",
          "data": {
            "text/plain": [
              "'/content'"
            ],
            "application/vnd.google.colaboratory.intrinsic+json": {
              "type": "string"
            }
          },
          "metadata": {},
          "execution_count": 3
        }
      ]
    },
    {
      "cell_type": "markdown",
      "source": [
        "# 2. Preprocess data\n",
        "\n",
        "Datasets:\n",
        "- `medset_multisize`\n",
        "  - Single datasets. Dataset construction code in repo too\n",
        "  - 12000 Images, in randomized order\n",
        "  - Res 256x256 (grayscale images also available in 128x128, 64x64, 32x32)\n"
      ],
      "metadata": {
        "id": "y1rkmEoxY0bM"
      }
    },
    {
      "cell_type": "markdown",
      "source": [
        "Load datasets, partition sets, and make tensors in color-layer order for convolutions\n",
        "\n"
      ],
      "metadata": {
        "id": "klqfJGcYZnmf"
      }
    },
    {
      "cell_type": "code",
      "source": [
        "def make_image_arr(path,cut=None,end=False):\n",
        "\n",
        "  def sorted_alphanumeric(data):\n",
        "    convert = lambda text: int(text) if text.isdigit() else text.lower()\n",
        "    alphanum_key = lambda key: [convert(c) for c in re.split('([0-9]+)',key)]\n",
        "    return sorted(data,key = alphanum_key)\n",
        "\n",
        "  files = os.listdir(path)\n",
        "  files = sorted_alphanumeric(files)\n",
        "\n",
        "  if end:\n",
        "    files.reverse()\n",
        "  if cut is not None:\n",
        "    files = files[:cut]\n",
        "\n",
        "  arr = []\n",
        "  for i in tqdm(files):\n",
        "    img = load_img(path + '/'+i)\n",
        "    arr.append(img_to_array(img) / 255)\n",
        "\n",
        "  return np.array(arr)\n",
        "\n",
        "rgb_np = make_image_arr('/content/CPSC-440-Project/datasets/medset_multisize/color',cut=2400,end=True)\n",
        "lab_np = skimage.color.rgb2lab(rgb_np)\n",
        "color = torch.from_numpy(np.moveaxis(lab_np, [3,1], [1,2]))\n",
        "\n",
        "def make_gray_tensor(path):\n",
        "  graynp = make_image_arr(path,cut=2400,end=True)\n",
        "\n",
        "  # take one axis\n",
        "  graynp = np.moveaxis(graynp, [3,1], [1,2])\n",
        "\n",
        "  # convert to LAB scale\n",
        "  graynp = graynp[:, 0:1, :, :] * 100\n",
        "\n",
        "  return torch.from_numpy(graynp)\n",
        "\n",
        "gray032 = make_gray_tensor('/content/CPSC-440-Project/datasets/medset_multisize/gray32')\n",
        "gray064 = make_gray_tensor('/content/CPSC-440-Project/datasets/medset_multisize/gray64')\n",
        "gray128 = make_gray_tensor('/content/CPSC-440-Project/datasets/medset_multisize/gray128')\n",
        "gray256 = make_gray_tensor('/content/CPSC-440-Project/datasets/medset_multisize/gray')\n"
      ],
      "metadata": {
        "id": "nbS2bT3vXKJc",
        "outputId": "c82e1635-0d28-46fa-facc-f52eec39c791",
        "colab": {
          "base_uri": "https://localhost:8080/"
        }
      },
      "execution_count": 4,
      "outputs": [
        {
          "output_type": "stream",
          "name": "stderr",
          "text": [
            "100%|██████████| 2400/2400 [00:05<00:00, 423.13it/s]\n",
            "100%|██████████| 2400/2400 [00:01<00:00, 1559.13it/s]\n",
            "100%|██████████| 2400/2400 [00:01<00:00, 1381.84it/s]\n",
            "100%|██████████| 2400/2400 [00:02<00:00, 911.77it/s]\n",
            "100%|██████████| 2400/2400 [00:05<00:00, 452.16it/s]\n"
          ]
        }
      ]
    },
    {
      "cell_type": "code",
      "source": [
        "print(gray032.shape)"
      ],
      "metadata": {
        "id": "VFEVkZKlVj-y",
        "outputId": "bd5862ce-12f7-4757-a092-f9f3b34b07f4",
        "colab": {
          "base_uri": "https://localhost:8080/"
        }
      },
      "execution_count": 10,
      "outputs": [
        {
          "output_type": "stream",
          "name": "stdout",
          "text": [
            "torch.Size([100, 1, 32, 32])\n"
          ]
        }
      ]
    },
    {
      "cell_type": "markdown",
      "source": [
        "# 3. Model\n",
        "Model generated below:"
      ],
      "metadata": {
        "id": "WnA0Wvam63vM"
      }
    },
    {
      "cell_type": "code",
      "execution_count": 5,
      "metadata": {
        "id": "kL2B0zg4cEoR"
      },
      "outputs": [],
      "source": [
        "class Autoencoder(nn.Module):\n",
        "    def __init__(self,intype):\n",
        "        super(Autoencoder, self).__init__()\n",
        "        # Encoder\n",
        "        if intype == 'gray032':\n",
        "          self.encoder = nn.Sequential(\n",
        "            nn.Conv2d(1, 256, 3, padding=1),\n",
        "            nn.BatchNorm2d(256),\n",
        "            nn.ReLU(),\n",
        "          )\n",
        "        elif intype == 'gray064':\n",
        "          self.encoder = nn.Sequential(\n",
        "            nn.Conv2d(1, 64, 3, padding=1),\n",
        "            nn.BatchNorm2d(64),\n",
        "            nn.ReLU(),\n",
        "            nn.Conv2d(64, 256, 3, padding=1),\n",
        "            nn.BatchNorm2d(256),\n",
        "            nn.ReLU(),\n",
        "            nn.MaxPool2d(2, 2),\n",
        "        )\n",
        "        elif intype == 'gray128':\n",
        "          self.encoder = nn.Sequential(\n",
        "            nn.Conv2d(1, 16, 3, padding=1),\n",
        "            nn.BatchNorm2d(16),\n",
        "            nn.ReLU(),\n",
        "            nn.Conv2d(16, 64, 3, padding=1),\n",
        "            nn.BatchNorm2d(64),\n",
        "            nn.ReLU(),\n",
        "            nn.MaxPool2d(2, 2),\n",
        "\n",
        "            nn.Conv2d(64, 128, 3, padding=1),\n",
        "            nn.BatchNorm2d(128),\n",
        "            nn.ReLU(),\n",
        "            nn.Conv2d(128, 256, 3, padding=1),\n",
        "            nn.BatchNorm2d(256),\n",
        "            nn.ReLU(),\n",
        "            nn.MaxPool2d(2, 2),\n",
        "        )\n",
        "        elif intype == 'gray256':\n",
        "          self.encoder = nn.Sequential(\n",
        "            nn.Conv2d(1, 8, 3, padding=1),\n",
        "            nn.BatchNorm2d(8),\n",
        "            nn.ReLU(),\n",
        "            nn.Conv2d(8, 16, 3, padding=1),\n",
        "            nn.BatchNorm2d(16),\n",
        "            nn.ReLU(),\n",
        "            nn.MaxPool2d(2, 2),\n",
        "\n",
        "            nn.Conv2d(16, 32, 3, padding=1),\n",
        "            nn.BatchNorm2d(32),\n",
        "            nn.ReLU(),\n",
        "            nn.Conv2d(32, 64, 3, padding=1),\n",
        "            nn.BatchNorm2d(64),\n",
        "            nn.ReLU(),\n",
        "            nn.MaxPool2d(2, 2),\n",
        "\n",
        "            nn.Conv2d(64, 128, 3, padding=1),\n",
        "            nn.BatchNorm2d(128),\n",
        "            nn.ReLU(),\n",
        "            nn.Conv2d(128, 256, 3, padding=1),\n",
        "            nn.BatchNorm2d(256),\n",
        "            nn.ReLU(),\n",
        "            nn.MaxPool2d(2, 2),\n",
        "          )\n",
        "\n",
        "\n",
        "        self.decoder = nn.Sequential(\n",
        "            nn.ConvTranspose2d(256, 128, 3, stride=2, padding=1, output_padding=1),\n",
        "            nn.BatchNorm2d(128),\n",
        "            nn.ReLU(),\n",
        "            nn.Conv2d(128, 64, 3, padding=1),\n",
        "            nn.BatchNorm2d(64),\n",
        "            nn.ReLU(),\n",
        "\n",
        "            nn.ConvTranspose2d(64, 32, 3, stride=2, padding=1, output_padding=1),\n",
        "            nn.BatchNorm2d(32),\n",
        "            nn.ReLU(),\n",
        "            nn.Conv2d(32, 16, 3, padding=1),\n",
        "            nn.BatchNorm2d(16),\n",
        "            nn.ReLU(),\n",
        "\n",
        "            nn.ConvTranspose2d(16, 8, 3, stride=2, padding=1, output_padding=1),\n",
        "            nn.BatchNorm2d(8),\n",
        "            nn.ReLU(),\n",
        "            nn.Conv2d(8, 3, 3, padding=1),\n",
        "            #nn.Sigmoid(),\n",
        "        )\n",
        "    def forward(self, x):\n",
        "        encoded = self.encoder(x)\n",
        "        decoded = self.decoder(encoded)\n",
        "        return decoded\n",
        "\n",
        "# Create the emergent superesolutions autoencoders\n",
        "esure032 = Autoencoder('gray032')\n",
        "esure064 = Autoencoder('gray064')\n",
        "esure128 = Autoencoder('gray128')\n",
        "esure256 = Autoencoder('gray256')\n"
      ]
    },
    {
      "cell_type": "markdown",
      "source": [
        "Load stored decoder from full size model training, and fix decoder parameters."
      ],
      "metadata": {
        "id": "WGURKK2pVBRl"
      }
    },
    {
      "cell_type": "code",
      "source": [
        "\n",
        "esure032.encoder = torch.load('/content/CPSC-440-Project/models/old models/lab_mle_encoder_32',map_location=device)\n",
        "esure064.encoder = torch.load('/content/CPSC-440-Project/models/old models/lab_mle_encoder_64',map_location=device)\n",
        "esure128.encoder = torch.load('/content/CPSC-440-Project/models/old models/lab_mle_encoder_128',map_location=device)\n",
        "esure256.encoder = torch.load('/content/CPSC-440-Project/models/old models/lab_mle_encoder',map_location=device)\n",
        "\n",
        "\n",
        "esures = [esure032,\n",
        "          esure064,\n",
        "          esure128,\n",
        "          esure256,\n",
        "          ]\n",
        "\n",
        "for esure in esures:\n",
        "  esure.decoder = torch.load('/content/CPSC-440-Project/models/old models/lab_mle_decoder',map_location=device)"
      ],
      "metadata": {
        "id": "FEfrbYp2VGDu"
      },
      "execution_count": 6,
      "outputs": []
    },
    {
      "cell_type": "markdown",
      "source": [
        "# LAB evaluation"
      ],
      "metadata": {
        "id": "x0zt1_2TCWrH"
      }
    },
    {
      "cell_type": "code",
      "source": [
        "inputs = [gray032, gray064, gray128, gray256]\n",
        "dim_labels = [32,64,128,256]\n",
        "\n",
        "outputs = []\n",
        "\n",
        "with torch.no_grad():\n",
        "  for i in range(4):\n",
        "    esures[i].eval()\n",
        "    esures[i].to(device)\n",
        "    output = []\n",
        "\n",
        "    #Necessary due to GPU SIZE Restrictions on L4 (Maybe not A100?)\n",
        "    output.append(esures[i](inputs[i][:len(color)//2].to(device)).cpu())\n",
        "    torch.cuda.empty_cache()\n",
        "\n",
        "    output.append(esures[i](inputs[i][len(color)//2:].to(device)).cpu())\n",
        "    outputs.append(torch.cat(output))\n",
        "    torch.cuda.empty_cache()\n",
        "\n",
        "output = torch.stack(outputs)"
      ],
      "metadata": {
        "id": "OYwxUOmWAJjO"
      },
      "execution_count": 7,
      "outputs": []
    },
    {
      "cell_type": "code",
      "source": [
        "from skimage.color import rgb2lab, lab2rgb\n",
        "\n",
        "def to_lab_tensor(input):\n",
        "  arr = []\n",
        "  for i in range(input.shape[0]):\n",
        "    arr.append(rgb2lab(input[i].detach().numpy(), channel_axis=0))\n",
        "  return torch.from_numpy(np.array(arr))"
      ],
      "metadata": {
        "id": "CGpHttaWztng"
      },
      "execution_count": 8,
      "outputs": []
    },
    {
      "cell_type": "code",
      "source": [
        "color_diffs = []\n",
        "for i in range(4):\n",
        "  color_diffs.append(ms_ssim(output[i], color, data_range = 1, size_average=False))\n",
        "\n",
        "color_diffs = torch.stack(color_diffs)"
      ],
      "metadata": {
        "id": "ZR03jZnmM7Rd"
      },
      "execution_count": 9,
      "outputs": []
    },
    {
      "cell_type": "code",
      "source": [
        "plt.boxplot(np.transpose(color_diffs.numpy()),\n",
        "            labels = dim_labels)\n",
        "            #xlabel = \"MSSIM Score\",\n",
        "            #ylabel = \"Input Resolution\")\n",
        "plt.ylabel(\"MSSIM Score\")\n",
        "plt.xlabel(\"Input Resolution\")\n",
        "plt.title(\"Test Set MMSIM Score by Input Resolution (LAB)\")\n",
        "\n",
        "plt.show()"
      ],
      "metadata": {
        "id": "uzu-f39ZP6vD",
        "outputId": "8d1e9d08-df83-4f99-dab6-2d849b3d1307",
        "colab": {
          "base_uri": "https://localhost:8080/",
          "height": 472
        }
      },
      "execution_count": 10,
      "outputs": [
        {
          "output_type": "display_data",
          "data": {
            "text/plain": [
              "<Figure size 640x480 with 1 Axes>"
            ],
            "image/png": "[encoded data removed]"
          },
          "metadata": {}
        }
      ]
    },
    {
      "cell_type": "code",
      "source": [
        "color_input_diffs = []\n",
        "\n",
        "for i in range(4):\n",
        "  upscaled = f.interpolate(inputs[i].reshape(len(color),1,dim_labels[i],dim_labels[i]),size=[256,256]).repeat(1, 3, 1, 1)\n",
        "  color_input_diffs.append(ms_ssim(upscaled, color, data_range = 1, size_average=False))\n",
        "\n",
        "color_input_diffs = torch.stack(color_input_diffs)"
      ],
      "metadata": {
        "id": "zsikWrxDumdW"
      },
      "execution_count": 11,
      "outputs": []
    },
    {
      "cell_type": "code",
      "source": [
        "recovery_factor = torch.div(color_diffs, color_input_diffs)\n",
        "\n",
        "plt.boxplot(np.transpose(recovery_factor.numpy()),\n",
        "            labels = dim_labels)\n",
        "            #xlabel = \"MSSIM Score\",\n",
        "            #ylabel = \"Input Resolution\")\n",
        "plt.ylabel(\"Recovery Factor\")\n",
        "plt.xlabel(\"Input Resolution\")\n",
        "plt.title(\"Recovery Factor Score by Input Resolution (LAB)\")\n",
        "\n",
        "plt.show()"
      ],
      "metadata": {
        "id": "q9wo-BixvYPt",
        "outputId": "016c9812-0590-42e7-d47d-0e4b23f52a56",
        "colab": {
          "base_uri": "https://localhost:8080/",
          "height": 472
        }
      },
      "execution_count": 12,
      "outputs": [
        {
          "output_type": "display_data",
          "data": {
            "text/plain": [
              "<Figure size 640x480 with 1 Axes>"
            ],
            "image/png": "[encoded data removed]"
          },
          "metadata": {}
        }
      ]
    },
    {
      "cell_type": "code",
      "source": [
        "dim_labels = [32,64,128,256]\n",
        "bw_input_diffs = []\n",
        "\n",
        "#In theory b/w images unaffected by switch to LAB?\n",
        "\n",
        "for i in range(4):\n",
        "  upscaled = f.interpolate(inputs[i].reshape(len(color),1,dim_labels[i],dim_labels[i]),size=[256,256])\n",
        "  bw_input_diffs.append(ms_ssim(upscaled, gray256, data_range = 1, size_average=False))\n",
        "\n",
        "bw_input_diffs = torch.stack(bw_input_diffs)\n",
        "\n",
        "bw_output_diffs = []\n",
        "\n",
        "for i in range(4):\n",
        "  bw_outputs = torch.mean(outputs[i], dim=1, keepdim=True)\n",
        "  bw_output_diffs.append(ms_ssim(bw_outputs, gray256, data_range = 1, size_average=False))\n",
        "\n",
        "bw_output_diffs = torch.stack(bw_output_diffs)\n"
      ],
      "metadata": {
        "id": "a5Hu9M1bP6es"
      },
      "execution_count": null,
      "outputs": []
    },
    {
      "cell_type": "code",
      "source": [
        "plt.boxplot(np.transpose(bw_output_diffs.numpy()),\n",
        "            labels = dim_labels)\n",
        "            #xlabel = \"MSSIM Score\",\n",
        "            #ylabel = \"Input Resolution\")\n",
        "plt.ylabel(\"MSSIM Score\")\n",
        "plt.xlabel(\"Input Resolution\")\n",
        "plt.title(\"Grayscale MMSIM Score by Input Resolution (RGB)\")\n",
        "\n",
        "plt.show()"
      ],
      "metadata": {
        "id": "fYGanhypoB3D"
      },
      "execution_count": null,
      "outputs": []
    },
    {
      "cell_type": "code",
      "source": [
        "bw_recovery_factor = torch.div(bw_output_diffs, bw_input_diffs)\n",
        "\n",
        "plt.boxplot(np.transpose(bw_recovery_factor.numpy()),\n",
        "            labels = dim_labels)\n",
        "            #xlabel = \"MSSIM Score\",\n",
        "            #ylabel = \"Input Resolution\")\n",
        "plt.ylabel(\"Recovery Factor\")\n",
        "plt.xlabel(\"Input Resolution\")\n",
        "plt.title(\"Grayscale Recovery Factor Score by Input Resolution (RGB)\")\n",
        "\n",
        "plt.show()"
      ],
      "metadata": {
        "id": "Co1HolS7lqnJ"
      },
      "execution_count": null,
      "outputs": []
    },
    {
      "cell_type": "code",
      "source": [
        "bw_sub_color = torch.sub(bw_output_diffs, color_diffs)\n",
        "\n",
        "plt.boxplot(np.transpose(bw_sub_color.numpy()),\n",
        "            labels = dim_labels)\n",
        "            #xlabel = \"MSSIM Score\",\n",
        "            #ylabel = \"Input Resolution\")\n",
        "plt.ylabel(\"MSSIM Difference\")\n",
        "plt.xlabel(\"Input Resolution\")\n",
        "plt.title(\"Test Set BW MSSIM Score minus Color score (RGB)\")\n",
        "\n",
        "plt.show()"
      ],
      "metadata": {
        "id": "K83FexahqEkC"
      },
      "execution_count": null,
      "outputs": []
    },
    {
      "cell_type": "code",
      "source": [
        "recovery_factor = torch.div(color_diffs, bw_input_diffs)\n",
        "\n",
        "plt.boxplot(np.transpose(bw_recovery_factor.numpy()),\n",
        "            labels = dim_labels)\n",
        "            #xlabel = \"MSSIM Score\",\n",
        "            #ylabel = \"Input Resolution\")\n",
        "plt.ylabel(\"Recovery Factor\")\n",
        "plt.xlabel(\"Input Resolution\")\n",
        "plt.title(\"Grayscale Recovery Factor Score by Input Resolution (RGB)\")\n",
        "\n",
        "plt.show()"
      ],
      "metadata": {
        "id": "Hnc216-vuXEg"
      },
      "execution_count": null,
      "outputs": []
    },
    {
      "cell_type": "code",
      "source": [],
      "metadata": {
        "id": "_qaURhda6yW9"
      },
      "execution_count": null,
      "outputs": []
    }
  ]
}