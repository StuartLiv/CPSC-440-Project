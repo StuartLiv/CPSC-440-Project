{
  "nbformat": 4,
  "nbformat_minor": 0,
  "metadata": {
    "colab": {
      "provenance": [],
      "include_colab_link": true
    },
    "kernelspec": {
      "name": "python3",
      "display_name": "Python 3"
    },
    "language_info": {
      "name": "python"
    }
  },
  "cells": [
    {
      "cell_type": "markdown",
      "metadata": {
        "id": "view-in-github",
        "colab_type": "text"
      },
      "source": [
        "<a href=\"https://colab.research.google.com/github/StuartLiv/CPSC-440-Project/blob/main/models/infoflow/stats.ipynb\" target=\"_parent\"><img src=\"https://colab.research.google.com/assets/colab-badge.svg\" alt=\"Open In Colab\"/></a>"
      ]
    },
    {
      "cell_type": "code",
      "source": [
        "import matplotlib.pyplot as plt\n",
        "import numpy as np\n",
        "from google.colab import userdata"
      ],
      "metadata": {
        "id": "N-_96eljZSnh"
      },
      "execution_count": 1,
      "outputs": []
    },
    {
      "cell_type": "code",
      "source": [
        "!git config --global user.email {userdata.get('email')}\n",
        "!git config --global user.name {userdata.get('name')}\n",
        "!git clone https://{userdata.get('token')}@github.com/StuartLiv/CPSC-440-Project\n"
      ],
      "metadata": {
        "id": "4T0FnzK-Oat_",
        "outputId": "95e0d117-7987-4a79-f198-8da7799e21f9",
        "colab": {
          "base_uri": "https://localhost:8080/"
        }
      },
      "execution_count": 2,
      "outputs": [
        {
          "output_type": "stream",
          "name": "stdout",
          "text": [
            "Cloning into 'CPSC-440-Project'...\n",
            "remote: Enumerating objects: 166726, done.\u001b[K\n",
            "remote: Counting objects: 100% (311/311), done.\u001b[K\n",
            "remote: Compressing objects: 100% (162/162), done.\u001b[K\n",
            "remote: Total 166726 (delta 164), reused 279 (delta 148), pack-reused 166415\u001b[K\n",
            "Receiving objects: 100% (166726/166726), 841.70 MiB | 30.51 MiB/s, done.\n",
            "Resolving deltas: 100% (37123/37123), done.\n",
            "Updating files: 100% (249508/249508), done.\n"
          ]
        }
      ]
    },
    {
      "cell_type": "code",
      "source": [
        "def get_meanvar(name):\n",
        "  arr = np.load('/content/CPSC-440-Project/infoflow/' + name)\n",
        "  return np.mean(arr,axis=1), np.sqrt(np.var(arr,axis=1))"
      ],
      "metadata": {
        "id": "y2laudsrOnei"
      },
      "execution_count": 3,
      "outputs": []
    },
    {
      "cell_type": "code",
      "source": [
        "labm, labv = get_meanvar('lab_ranks.npy')\n",
        "lab32m, lab32v = get_meanvar('lab32_ranks.npy')\n",
        "lab64m, lab64v = get_meanvar('lab64_ranks.npy')\n",
        "# lab128m, lab128v = get_meanvar('lab128_ranks.npy')\n",
        "\n",
        "rgbm, rgbv = get_meanvar('rgb_ranks.npy')\n",
        "rgb32m, rgb32v = get_meanvar('rgb32_ranks.npy')\n",
        "rgb64m, rgb64v = get_meanvar('rgb64_ranks.npy')\n",
        "rgb128m, rgb128v = get_meanvar('rgb128_ranks.npy')"
      ],
      "metadata": {
        "id": "YdcuifMvSWyw"
      },
      "execution_count": 4,
      "outputs": []
    },
    {
      "cell_type": "code",
      "source": [
        "labm, labv"
      ],
      "metadata": {
        "id": "sR2Vubm4T_3S",
        "outputId": "6c0e9724-b68e-4a7f-a2cc-3902b4976483",
        "colab": {
          "base_uri": "https://localhost:8080/"
        }
      },
      "execution_count": 5,
      "outputs": [
        {
          "output_type": "execute_result",
          "data": {
            "text/plain": [
              "(array([  5.26,  23.39, 108.25,  21.41,  12.99]),\n",
              " array([0.8788629 , 2.3404914 , 7.50649719, 3.15624777, 1.01483989]))"
            ]
          },
          "metadata": {},
          "execution_count": 5
        }
      ]
    },
    {
      "cell_type": "code",
      "source": [
        "for i in range(5):\n",
        "  print(f'{labm[i]} ± {labv[i]:.2f}')"
      ],
      "metadata": {
        "id": "ERO-BL4pYtC0",
        "outputId": "dab16177-1bd8-46c4-e0fd-111eb5e6be65",
        "colab": {
          "base_uri": "https://localhost:8080/"
        }
      },
      "execution_count": 6,
      "outputs": [
        {
          "output_type": "stream",
          "name": "stdout",
          "text": [
            "5.26 ± 0.88\n",
            "23.39 ± 2.34\n",
            "108.25 ± 7.51\n",
            "21.41 ± 3.16\n",
            "12.99 ± 1.01\n"
          ]
        }
      ]
    },
    {
      "cell_type": "code",
      "source": [
        "for i in range(5):\n",
        "  print(f'{rgbm[i]} ± {rgbv[i]:.2f}')"
      ],
      "metadata": {
        "id": "q5Yep_4TY7xw",
        "outputId": "73c78aaf-2868-4d62-ccc4-c84a80c2ee93",
        "colab": {
          "base_uri": "https://localhost:8080/"
        }
      },
      "execution_count": 7,
      "outputs": [
        {
          "output_type": "stream",
          "name": "stdout",
          "text": [
            "4.79 ± 0.86\n",
            "21.38 ± 3.32\n",
            "105.27 ± 11.09\n",
            "11.23 ± 2.46\n",
            "13.51 ± 1.91\n"
          ]
        }
      ]
    },
    {
      "cell_type": "code",
      "source": [
        "RGBm = {\n",
        "    256: rgbm,\n",
        "\n",
        "    128: rgb128m,\n",
        "    64: rgb64m,\n",
        "\n",
        "    32: rgb32m,\n",
        "}\n",
        "\n",
        "RGBv = {\n",
        "    256: rgbv,\n",
        "\n",
        "    128: rgb128v,\n",
        "    64: rgb64v,\n",
        "\n",
        "    32: rgb32v,\n",
        "\n",
        "}\n"
      ],
      "metadata": {
        "id": "9caDlTyB4tBC"
      },
      "execution_count": 25,
      "outputs": []
    },
    {
      "cell_type": "code",
      "source": [
        "x = np.arange(4)  # the label locations\n",
        "width = 0.1  # the width of the bars\n",
        "multiplier = 0\n",
        "\n",
        "for dim, mean in RGBm.items():\n",
        "    offset = width * multiplier\n",
        "    plt.bar(offset, mean, width, yerr=RGBv[dim])\n",
        "    multiplier += 1.5\n",
        "    # ax.bar_label(rects, padding=3)\n",
        "    multiplier += 1.5\n",
        "\n",
        "# Add some text for labels, title and custom x-axis tick labels, etc.\n",
        "plt.legend()\n",
        "plt.show()"
      ],
      "metadata": {
        "id": "XwLOCHD7ZIXf",
        "colab": {
          "base_uri": "https://localhost:8080/",
          "height": 447
        },
        "outputId": "e8f45285-1e47-498f-99a4-3a661cd63f49"
      },
      "execution_count": 26,
      "outputs": [
        {
          "output_type": "stream",
          "name": "stderr",
          "text": [
            "WARNING:matplotlib.legend:No artists with labels found to put in legend.  Note that artists whose label start with an underscore are ignored when legend() is called with no argument.\n"
          ]
        },
        {
          "output_type": "display_data",
          "data": {
            "text/plain": [
              "<Figure size 640x480 with 1 Axes>"
            ],
            "image/png": "[encoded data removed]"
          },
          "metadata": {}
        }
      ]
    },
    {
      "cell_type": "code",
      "source": [],
      "metadata": {
        "id": "UP0B4YF94Lrf"
      },
      "execution_count": null,
      "outputs": []
    }
  ]
}