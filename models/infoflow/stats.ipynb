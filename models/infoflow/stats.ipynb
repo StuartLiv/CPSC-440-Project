{
  "nbformat": 4,
  "nbformat_minor": 0,
  "metadata": {
    "colab": {
      "provenance": [],
      "include_colab_link": true
    },
    "kernelspec": {
      "name": "python3",
      "display_name": "Python 3"
    },
    "language_info": {
      "name": "python"
    }
  },
  "cells": [
    {
      "cell_type": "markdown",
      "metadata": {
        "id": "view-in-github",
        "colab_type": "text"
      },
      "source": [
        "<a href=\"https://colab.research.google.com/github/StuartLiv/CPSC-440-Project/blob/main/models/infoflow/stats.ipynb\" target=\"_parent\"><img src=\"https://colab.research.google.com/assets/colab-badge.svg\" alt=\"Open In Colab\"/></a>"
      ]
    },
    {
      "cell_type": "code",
      "source": [
        "import matplotlib.pyplot as plt\n",
        "import numpy as np\n",
        "from google.colab import userdata"
      ],
      "metadata": {
        "id": "N-_96eljZSnh"
      },
      "execution_count": 1,
      "outputs": []
    },
    {
      "cell_type": "code",
      "source": [
        "!git config --global user.email {userdata.get('email')}\n",
        "!git config --global user.name {userdata.get('name')}\n",
        "!git clone https://{userdata.get('token')}@github.com/StuartLiv/CPSC-440-Project\n"
      ],
      "metadata": {
        "id": "4T0FnzK-Oat_",
        "outputId": "10c4b192-5e7b-4aa4-e7b7-c298982fdc03",
        "colab": {
          "base_uri": "https://localhost:8080/"
        }
      },
      "execution_count": 2,
      "outputs": [
        {
          "output_type": "stream",
          "name": "stdout",
          "text": [
            "Cloning into 'CPSC-440-Project'...\n",
            "remote: Enumerating objects: 166685, done.\u001b[K\n",
            "remote: Counting objects: 100% (270/270), done.\u001b[K\n",
            "remote: Compressing objects: 100% (129/129), done.\u001b[K\n",
            "remote: Total 166685 (delta 146), reused 254 (delta 141), pack-reused 166415\u001b[K\n",
            "Receiving objects: 100% (166685/166685), 832.38 MiB | 32.70 MiB/s, done.\n",
            "Resolving deltas: 100% (37105/37105), done.\n",
            "Updating files: 100% (249506/249506), done.\n"
          ]
        }
      ]
    },
    {
      "cell_type": "code",
      "source": [
        "def get_meanvar(name):\n",
        "  arr = np.load('/content/CPSC-440-Project/infoflow/' + name)\n",
        "  return np.mean(arr,axis=1), np.sqrt(np.var(arr,axis=1))"
      ],
      "metadata": {
        "id": "y2laudsrOnei"
      },
      "execution_count": 12,
      "outputs": []
    },
    {
      "cell_type": "code",
      "source": [
        "labm, labv = get_meanvar('lab_ranks.npy')\n",
        "lab32m, lab32v = get_meanvar('lab32_ranks.npy')\n",
        "lab64m, lab64v = get_meanvar('lab64_ranks.npy')\n",
        "# lab128m, lab128v = get_meanvar('lab128_ranks.npy')\n",
        "\n",
        "rgbm, rgbv = get_meanvar('rgb_ranks.npy')\n",
        "rgb32m, rgb32v = get_meanvar('rgb32_ranks.npy')\n",
        "rgb64m, rgb64v = get_meanvar('rgb64_ranks.npy')\n",
        "rgb128m, rgb128v = get_meanvar('rgb128_ranks.npy')"
      ],
      "metadata": {
        "id": "YdcuifMvSWyw"
      },
      "execution_count": 20,
      "outputs": []
    },
    {
      "cell_type": "code",
      "source": [
        "labm, labv"
      ],
      "metadata": {
        "id": "sR2Vubm4T_3S",
        "outputId": "7c8bf350-71e6-4947-d9e4-cbf8d48458ff",
        "colab": {
          "base_uri": "https://localhost:8080/"
        }
      },
      "execution_count": 15,
      "outputs": [
        {
          "output_type": "execute_result",
          "data": {
            "text/plain": [
              "(array([  5.26,  23.39, 108.25,  21.41,  12.99]),\n",
              " array([0.8788629 , 2.3404914 , 7.50649719, 3.15624777, 1.01483989]))"
            ]
          },
          "metadata": {},
          "execution_count": 15
        }
      ]
    },
    {
      "cell_type": "code",
      "source": [
        "for i in range(5):\n",
        "  print(f'{labm[i]} ± {labv[i]:.2f}')"
      ],
      "metadata": {
        "id": "ERO-BL4pYtC0",
        "outputId": "ceca2d9a-6254-4569-bfc7-57ac19259c96",
        "colab": {
          "base_uri": "https://localhost:8080/"
        }
      },
      "execution_count": 17,
      "outputs": [
        {
          "output_type": "stream",
          "name": "stdout",
          "text": [
            "5.26 ± 0.88\n",
            "23.39 ± 2.34\n",
            "108.25 ± 7.51\n",
            "21.41 ± 3.16\n",
            "12.99 ± 1.01\n"
          ]
        }
      ]
    },
    {
      "cell_type": "code",
      "source": [
        "for i in range(5):\n",
        "  print(f'{rgbm[i]} ± {rgbv[i]:.2f}')"
      ],
      "metadata": {
        "id": "q5Yep_4TY7xw",
        "outputId": "54e93e1d-adb3-4922-c7c4-e347ad1131ae",
        "colab": {
          "base_uri": "https://localhost:8080/"
        }
      },
      "execution_count": 21,
      "outputs": [
        {
          "output_type": "stream",
          "name": "stdout",
          "text": [
            "4.79 ± 0.86\n",
            "21.38 ± 3.32\n",
            "105.27 ± 11.09\n",
            "11.23 ± 2.46\n",
            "13.51 ± 1.91\n"
          ]
        }
      ]
    },
    {
      "cell_type": "code",
      "source": [],
      "metadata": {
        "id": "XwLOCHD7ZIXf"
      },
      "execution_count": null,
      "outputs": []
    }
  ]
}