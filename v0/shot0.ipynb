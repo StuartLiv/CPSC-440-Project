{
  "nbformat": 4,
  "nbformat_minor": 0,
  "metadata": {
    "colab": {
      "provenance": [],
      "include_colab_link": true
    },
    "kernelspec": {
      "name": "python3",
      "display_name": "Python 3"
    },
    "language_info": {
      "name": "python"
    }
  },
  "cells": [
    {
      "cell_type": "markdown",
      "metadata": {
        "id": "view-in-github",
        "colab_type": "text"
      },
      "source": [
        "<a href=\"https://colab.research.google.com/github/StuartLiv/CPSC-440-Project/blob/main/v0/shot0.ipynb\" target=\"_parent\"><img src=\"https://colab.research.google.com/assets/colab-badge.svg\" alt=\"Open In Colab\"/></a>"
      ]
    },
    {
      "cell_type": "markdown",
      "source": [
        "# workflow notebook\n",
        "\n",
        "Used reference:\n",
        "-  [git in colab](https://www.geeksforgeeks.org/how-to-install-and-use-git-in-google-colab/)!\n",
        "\n",
        "# 0. Open ipynb from github\n",
        "To get this latest notebook from our repo into colab:\n",
        "> \"Open in colab\" button == {Download from github} + {Upload to colab} - {Gets saved to drive}\n",
        "\n",
        "# 1. Set up project in runtime\n",
        "The following cell runs git config, clones the repo to get datasets as runtime files, and cds into project directory."
      ],
      "metadata": {
        "id": "p2hPm3ge3aAx"
      }
    },
    {
      "cell_type": "code",
      "source": [
        "!git config --global user.email \"beepboop@gmail.com\"\n",
        "!git config --global user.name \"boopbeep\"\n",
        "!git clone https://yourtoken@github.com/StuartLiv/CPSC-440-Project\n",
        "%cd '/content/CPSC-440-Project'"
      ],
      "metadata": {
        "id": "5Jne8TzG5qCi"
      },
      "execution_count": null,
      "outputs": []
    },
    {
      "cell_type": "code",
      "source": [
        "%pwd"
      ],
      "metadata": {
        "colab": {
          "base_uri": "https://localhost:8080/",
          "height": 35
        },
        "id": "6yHgRN5V8RT0",
        "outputId": "b4356f99-a42d-4fb0-c938-b07874043b54"
      },
      "execution_count": null,
      "outputs": [
        {
          "output_type": "execute_result",
          "data": {
            "text/plain": [
              "'/content/CPSC-440-Project'"
            ],
            "application/vnd.google.colaboratory.intrinsic+json": {
              "type": "string"
            }
          },
          "metadata": {},
          "execution_count": 14
        }
      ]
    },
    {
      "cell_type": "markdown",
      "source": [
        "# 2. Load datasets\n",
        "`git clone` seems too good to be true. Indeed, it only clones directories and not the 0.3GB data inside. We must still save datasets to drive and access them via mount drive.\n",
        "\n",
        "I'm uploading [kaggle dataset 1](https://www.kaggle.com/datasets/theblackmamba31/landscape-image-colorization) images into a shared folder (it's taking a couple hours)."
      ],
      "metadata": {
        "id": "o51hHt3S5_Tw"
      }
    },
    {
      "cell_type": "code",
      "source": [],
      "metadata": {
        "id": "yaePf3076L_M"
      },
      "execution_count": null,
      "outputs": []
    },
    {
      "cell_type": "markdown",
      "source": [
        "# 3. Saving new model weights to project directory\n",
        "\n",
        "Toy model generated below:"
      ],
      "metadata": {
        "id": "WnA0Wvam63vM"
      }
    },
    {
      "cell_type": "code",
      "execution_count": null,
      "metadata": {
        "id": "kL2B0zg4cEoR"
      },
      "outputs": [],
      "source": [
        "# prompt: pytorch colourization autoencoder\n",
        "\n",
        "import torch\n",
        "import torch.nn as nn\n",
        "class Autoencoder(nn.Module):\n",
        "    def __init__(self):\n",
        "        super(Autoencoder, self).__init__()\n",
        "        # Encoder\n",
        "        self.encoder = nn.Sequential(\n",
        "            nn.Conv2d(3, 16, 3, padding=1),\n",
        "            nn.ReLU(),\n",
        "            nn.MaxPool2d(2, 2),\n",
        "            nn.Conv2d(16, 32, 3, padding=1),\n",
        "            nn.ReLU(),\n",
        "            nn.MaxPool2d(2, 2),\n",
        "            nn.Conv2d(32, 64, 3, padding=1),\n",
        "            nn.ReLU(),\n",
        "            nn.MaxPool2d(2, 2),\n",
        "        )\n",
        "        # Decoder\n",
        "        self.decoder = nn.Sequential(\n",
        "            nn.ConvTranspose2d(64, 32, 3, stride=2, padding=1, output_padding=1),\n",
        "            nn.ReLU(),\n",
        "            nn.ConvTranspose2d(32, 16, 3, stride=2, padding=1, output_padding=1),\n",
        "            nn.ReLU(),\n",
        "            nn.ConvTranspose2d(16, 3, 3, stride=2, padding=1, output_padding=1),\n",
        "            nn.Sigmoid(),\n",
        "        )\n",
        "    def forward(self, x):\n",
        "        encoded = self.encoder(x)\n",
        "        decoded = self.decoder(encoded)\n",
        "        return decoded\n",
        "# Create the autoencoder\n",
        "autoencoder = Autoencoder()\n",
        "# Load the image\n",
        "image = torch.randn(1, 3, 224, 224)\n",
        "# Colorize the image\n",
        "colorized_image = autoencoder(image)\n"
      ]
    },
    {
      "cell_type": "code",
      "source": [
        "torch.save(autoencoder.decoder,'/content/CPSC-440-Project/v0/decoder_weights')"
      ],
      "metadata": {
        "id": "QYBuhq2rtiLN"
      },
      "execution_count": null,
      "outputs": []
    },
    {
      "cell_type": "markdown",
      "source": [
        "# 4. Push changes\n",
        "\n",
        "Look for any changes in the project directory, excluding this notebook, and push them.\n"
      ],
      "metadata": {
        "id": "UuwWuVpI7JOM"
      }
    },
    {
      "cell_type": "code",
      "source": [
        "!git add ."
      ],
      "metadata": {
        "id": "_UjVmKy91euT"
      },
      "execution_count": null,
      "outputs": []
    },
    {
      "cell_type": "code",
      "source": [
        "!git status"
      ],
      "metadata": {
        "id": "JIgEXMYt2SLG"
      },
      "execution_count": null,
      "outputs": []
    },
    {
      "cell_type": "code",
      "source": [
        "!git commit -m \"Message here\""
      ],
      "metadata": {
        "id": "M2IsKU8o3CrX"
      },
      "execution_count": null,
      "outputs": []
    },
    {
      "cell_type": "code",
      "source": [
        "!git push"
      ],
      "metadata": {
        "id": "ns6SM1go3IZl"
      },
      "execution_count": null,
      "outputs": []
    },
    {
      "cell_type": "code",
      "source": [],
      "metadata": {
        "id": "ZRavBxLT3LEN"
      },
      "execution_count": null,
      "outputs": []
    },
    {
      "cell_type": "markdown",
      "source": [
        "# 5. Save notebook\n",
        "\n",
        "Commiting this notebook requires a special maneuver:\n",
        "\n",
        "> File > Save a copy in github > enter original `path` + new commit msg\n",
        "\n",
        "That's it!"
      ],
      "metadata": {
        "id": "l6r4vK-a9Tr4"
      }
    },
    {
      "cell_type": "code",
      "source": [],
      "metadata": {
        "id": "r7QEjIK898o5"
      },
      "execution_count": null,
      "outputs": []
    }
  ]
}