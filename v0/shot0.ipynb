{
  "nbformat": 4,
  "nbformat_minor": 0,
  "metadata": {
    "colab": {
      "provenance": [],
      "authorship_tag": "ABX9TyMEOXI0DcTLa3dHjqBhVb4k",
      "include_colab_link": true
    },
    "kernelspec": {
      "name": "python3",
      "display_name": "Python 3"
    },
    "language_info": {
      "name": "python"
    }
  },
  "cells": [
    {
      "cell_type": "markdown",
      "metadata": {
        "id": "view-in-github",
        "colab_type": "text"
      },
      "source": [
        "<a href=\"https://colab.research.google.com/github/StuartLiv/CPSC-440-Project/blob/main/v0/shot0.ipynb\" target=\"_parent\"><img src=\"https://colab.research.google.com/assets/colab-badge.svg\" alt=\"Open In Colab\"/></a>"
      ]
    },
    {
      "cell_type": "markdown",
      "source": [
        "# workflow notebook\n",
        "\n",
        "Used reference:\n",
        "-  [git in colab](https://www.geeksforgeeks.org/how-to-install-and-use-git-in-google-colab/)!\n",
        "\n",
        "# 0.\n",
        "To get this latest notebook from our repo into colab:\n",
        "> \"Open in colab\" button == {Download from github} + {Upload to colab} - {Gets saved to drive}\n",
        "\n",
        "# 1.\n",
        "The following cell runs git config, clones the repo to get datasets as runtime files, and cds into project directory."
      ],
      "metadata": {
        "id": "p2hPm3ge3aAx"
      }
    },
    {
      "cell_type": "code",
      "source": [
        "!git config --global user.email \"beepboop@gmail.com\"\n",
        "!git config --global user.name \"boopbeep\"\n",
        "!git clone https://yourtoken@github.com/StuartLiv/CPSC-440-Project\n",
        "%cd '/content/CPSC-440-Project'"
      ],
      "metadata": {
        "id": "5Jne8TzG5qCi"
      },
      "execution_count": null,
      "outputs": []
    },
    {
      "cell_type": "code",
      "source": [
        "%pwd"
      ],
      "metadata": {
        "id": "6yHgRN5V8RT0",
        "outputId": "b4356f99-a42d-4fb0-c938-b07874043b54",
        "colab": {
          "base_uri": "https://localhost:8080/",
          "height": 35
        }
      },
      "execution_count": 14,
      "outputs": [
        {
          "output_type": "execute_result",
          "data": {
            "text/plain": [
              "'/content/CPSC-440-Project'"
            ],
            "application/vnd.google.colaboratory.intrinsic+json": {
              "type": "string"
            }
          },
          "metadata": {},
          "execution_count": 14
        }
      ]
    },
    {
      "cell_type": "markdown",
      "source": [
        "# TODO\n",
        "`git clone` seems too good to be true. Indeed, it only clones directories and not the 0.3GB data inside. We must still save datasets to drive and access them via mount drive."
      ],
      "metadata": {
        "id": "o51hHt3S5_Tw"
      }
    },
    {
      "cell_type": "code",
      "source": [],
      "metadata": {
        "id": "yaePf3076L_M"
      },
      "execution_count": null,
      "outputs": []
    },
    {
      "cell_type": "markdown",
      "source": [
        "# 3. Saving new model weights to project directory\n",
        "\n",
        "Toy model generated below:"
      ],
      "metadata": {
        "id": "WnA0Wvam63vM"
      }
    },
    {
      "cell_type": "code",
      "execution_count": 1,
      "metadata": {
        "id": "kL2B0zg4cEoR"
      },
      "outputs": [],
      "source": [
        "# prompt: pytorch colourization autoencoder\n",
        "\n",
        "import torch\n",
        "import torch.nn as nn\n",
        "class Autoencoder(nn.Module):\n",
        "    def __init__(self):\n",
        "        super(Autoencoder, self).__init__()\n",
        "        # Encoder\n",
        "        self.encoder = nn.Sequential(\n",
        "            nn.Conv2d(3, 16, 3, padding=1),\n",
        "            nn.ReLU(),\n",
        "            nn.MaxPool2d(2, 2),\n",
        "            nn.Conv2d(16, 32, 3, padding=1),\n",
        "            nn.ReLU(),\n",
        "            nn.MaxPool2d(2, 2),\n",
        "            nn.Conv2d(32, 64, 3, padding=1),\n",
        "            nn.ReLU(),\n",
        "            nn.MaxPool2d(2, 2),\n",
        "        )\n",
        "        # Decoder\n",
        "        self.decoder = nn.Sequential(\n",
        "            nn.ConvTranspose2d(64, 32, 3, stride=2, padding=1, output_padding=1),\n",
        "            nn.ReLU(),\n",
        "            nn.ConvTranspose2d(32, 16, 3, stride=2, padding=1, output_padding=1),\n",
        "            nn.ReLU(),\n",
        "            nn.ConvTranspose2d(16, 3, 3, stride=2, padding=1, output_padding=1),\n",
        "            nn.Sigmoid(),\n",
        "        )\n",
        "    def forward(self, x):\n",
        "        encoded = self.encoder(x)\n",
        "        decoded = self.decoder(encoded)\n",
        "        return decoded\n",
        "# Create the autoencoder\n",
        "autoencoder = Autoencoder()\n",
        "# Load the image\n",
        "image = torch.randn(1, 3, 224, 224)\n",
        "# Colorize the image\n",
        "colorized_image = autoencoder(image)\n"
      ]
    },
    {
      "cell_type": "code",
      "source": [
        "torch.save(autoencoder.decoder,'/content/CPSC-440-Project/v0/decoder_weights')"
      ],
      "metadata": {
        "id": "QYBuhq2rtiLN"
      },
      "execution_count": 3,
      "outputs": []
    },
    {
      "cell_type": "markdown",
      "source": [
        "# 4. Save changes\n",
        "\n",
        "Look for any changes in the project directory and push them.\n",
        "\n",
        "In this workflow, the git bits get kept inside the notebook."
      ],
      "metadata": {
        "id": "UuwWuVpI7JOM"
      }
    },
    {
      "cell_type": "code",
      "source": [
        "!git add ."
      ],
      "metadata": {
        "id": "_UjVmKy91euT"
      },
      "execution_count": 9,
      "outputs": []
    },
    {
      "cell_type": "code",
      "source": [
        "!git status"
      ],
      "metadata": {
        "id": "JIgEXMYt2SLG",
        "outputId": "441462d2-228b-42e9-f035-4c54f0ce539a",
        "colab": {
          "base_uri": "https://localhost:8080/"
        }
      },
      "execution_count": 15,
      "outputs": [
        {
          "output_type": "stream",
          "name": "stdout",
          "text": [
            "On branch main\n",
            "Your branch is up to date with 'origin/main'.\n",
            "\n",
            "Untracked files:\n",
            "  (use \"git add <file>...\" to include in what will be committed)\n",
            "\t\u001b[31mCPSC-440-Project/\u001b[m\n",
            "\n",
            "nothing added to commit but untracked files present (use \"git add\" to track)\n"
          ]
        }
      ]
    },
    {
      "cell_type": "code",
      "source": [
        "!git commit -m \"Made notebook pretty\""
      ],
      "metadata": {
        "id": "M2IsKU8o3CrX",
        "outputId": "786cbe73-14d6-45dd-f427-e744d72080c7",
        "colab": {
          "base_uri": "https://localhost:8080/"
        }
      },
      "execution_count": 11,
      "outputs": [
        {
          "output_type": "stream",
          "name": "stdout",
          "text": [
            "On branch main\n",
            "Your branch is up to date with 'origin/main'.\n",
            "\n",
            "nothing to commit, working tree clean\n"
          ]
        }
      ]
    },
    {
      "cell_type": "code",
      "source": [
        "!git push"
      ],
      "metadata": {
        "id": "ns6SM1go3IZl",
        "outputId": "291cbbcd-c9b2-43cc-bc02-4b7b659f3124",
        "colab": {
          "base_uri": "https://localhost:8080/"
        }
      },
      "execution_count": 8,
      "outputs": [
        {
          "output_type": "stream",
          "name": "stdout",
          "text": [
            "Enumerating objects: 5, done.\n",
            "Counting objects:  20% (1/5)\rCounting objects:  40% (2/5)\rCounting objects:  60% (3/5)\rCounting objects:  80% (4/5)\rCounting objects: 100% (5/5)\rCounting objects: 100% (5/5), done.\n",
            "Delta compression using up to 2 threads\n",
            "Compressing objects:  25% (1/4)\rCompressing objects:  50% (2/4)\rCompressing objects:  75% (3/4)\rCompressing objects: 100% (4/4)\rCompressing objects: 100% (4/4), done.\n",
            "Writing objects:  25% (1/4)\rWriting objects:  50% (2/4)\rWriting objects:  75% (3/4)\rWriting objects: 100% (4/4)\rWriting objects: 100% (4/4), 87.45 KiB | 17.49 MiB/s, done.\n",
            "Total 4 (delta 0), reused 0 (delta 0), pack-reused 0\n",
            "To https://github.com/StuartLiv/CPSC-440-Project\n",
            "   ec8b7d8..93bb421  main -> main\n"
          ]
        }
      ]
    },
    {
      "cell_type": "code",
      "source": [],
      "metadata": {
        "id": "ZRavBxLT3LEN"
      },
      "execution_count": null,
      "outputs": []
    }
  ]
}